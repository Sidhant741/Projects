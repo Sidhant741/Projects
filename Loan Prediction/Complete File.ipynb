{
 "cells": [
  {
   "cell_type": "markdown",
   "id": "dad2e831",
   "metadata": {},
   "source": [
    "# Importing the Necessary libraries"
   ]
  },
  {
   "cell_type": "code",
   "execution_count": 1,
   "id": "c0a69c83",
   "metadata": {},
   "outputs": [],
   "source": [
    "import numpy as np\n",
    "import pandas as pd\n",
    "import matplotlib.pyplot as plt"
   ]
  },
  {
   "cell_type": "code",
   "execution_count": 2,
   "id": "7ac4955b",
   "metadata": {},
   "outputs": [],
   "source": [
    "import seaborn as sns"
   ]
  },
  {
   "cell_type": "code",
   "execution_count": 3,
   "id": "3e5c10e2",
   "metadata": {},
   "outputs": [],
   "source": [
    "from scipy.stats import mode"
   ]
  },
  {
   "cell_type": "code",
   "execution_count": 56,
   "id": "2c860be5",
   "metadata": {},
   "outputs": [],
   "source": [
    "import pickle"
   ]
  },
  {
   "cell_type": "code",
   "execution_count": null,
   "id": "02719497",
   "metadata": {},
   "outputs": [],
   "source": []
  },
  {
   "cell_type": "markdown",
   "id": "0d42529a",
   "metadata": {},
   "source": [
    "# Importing the Dataset"
   ]
  },
  {
   "cell_type": "code",
   "execution_count": 4,
   "id": "48f6facb",
   "metadata": {},
   "outputs": [],
   "source": [
    "train_dataset = pd.read_csv('train_ctrUa4K.csv')\n",
    "test_dataset = pd.read_csv('test_lAUu6dG.csv')"
   ]
  },
  {
   "cell_type": "code",
   "execution_count": null,
   "id": "d069ef91",
   "metadata": {},
   "outputs": [],
   "source": []
  },
  {
   "cell_type": "markdown",
   "id": "7bc03405",
   "metadata": {},
   "source": [
    "# About Training Dataset"
   ]
  },
  {
   "cell_type": "code",
   "execution_count": 5,
   "id": "261e52e2",
   "metadata": {},
   "outputs": [
    {
     "data": {
      "text/plain": [
       "(614, 13)"
      ]
     },
     "execution_count": 5,
     "metadata": {},
     "output_type": "execute_result"
    }
   ],
   "source": [
    "train_dataset.shape"
   ]
  },
  {
   "cell_type": "code",
   "execution_count": 6,
   "id": "017bfe63",
   "metadata": {},
   "outputs": [
    {
     "data": {
      "text/html": [
       "<div>\n",
       "<style scoped>\n",
       "    .dataframe tbody tr th:only-of-type {\n",
       "        vertical-align: middle;\n",
       "    }\n",
       "\n",
       "    .dataframe tbody tr th {\n",
       "        vertical-align: top;\n",
       "    }\n",
       "\n",
       "    .dataframe thead th {\n",
       "        text-align: right;\n",
       "    }\n",
       "</style>\n",
       "<table border=\"1\" class=\"dataframe\">\n",
       "  <thead>\n",
       "    <tr style=\"text-align: right;\">\n",
       "      <th></th>\n",
       "      <th>Loan_ID</th>\n",
       "      <th>Gender</th>\n",
       "      <th>Married</th>\n",
       "      <th>Dependents</th>\n",
       "      <th>Education</th>\n",
       "      <th>Self_Employed</th>\n",
       "      <th>ApplicantIncome</th>\n",
       "      <th>CoapplicantIncome</th>\n",
       "      <th>LoanAmount</th>\n",
       "      <th>Loan_Amount_Term</th>\n",
       "      <th>Credit_History</th>\n",
       "      <th>Property_Area</th>\n",
       "      <th>Loan_Status</th>\n",
       "    </tr>\n",
       "  </thead>\n",
       "  <tbody>\n",
       "    <tr>\n",
       "      <th>0</th>\n",
       "      <td>LP001002</td>\n",
       "      <td>Male</td>\n",
       "      <td>No</td>\n",
       "      <td>0</td>\n",
       "      <td>Graduate</td>\n",
       "      <td>No</td>\n",
       "      <td>5849</td>\n",
       "      <td>0.0</td>\n",
       "      <td>NaN</td>\n",
       "      <td>360.0</td>\n",
       "      <td>1.0</td>\n",
       "      <td>Urban</td>\n",
       "      <td>Y</td>\n",
       "    </tr>\n",
       "    <tr>\n",
       "      <th>1</th>\n",
       "      <td>LP001003</td>\n",
       "      <td>Male</td>\n",
       "      <td>Yes</td>\n",
       "      <td>1</td>\n",
       "      <td>Graduate</td>\n",
       "      <td>No</td>\n",
       "      <td>4583</td>\n",
       "      <td>1508.0</td>\n",
       "      <td>128.0</td>\n",
       "      <td>360.0</td>\n",
       "      <td>1.0</td>\n",
       "      <td>Rural</td>\n",
       "      <td>N</td>\n",
       "    </tr>\n",
       "    <tr>\n",
       "      <th>2</th>\n",
       "      <td>LP001005</td>\n",
       "      <td>Male</td>\n",
       "      <td>Yes</td>\n",
       "      <td>0</td>\n",
       "      <td>Graduate</td>\n",
       "      <td>Yes</td>\n",
       "      <td>3000</td>\n",
       "      <td>0.0</td>\n",
       "      <td>66.0</td>\n",
       "      <td>360.0</td>\n",
       "      <td>1.0</td>\n",
       "      <td>Urban</td>\n",
       "      <td>Y</td>\n",
       "    </tr>\n",
       "    <tr>\n",
       "      <th>3</th>\n",
       "      <td>LP001006</td>\n",
       "      <td>Male</td>\n",
       "      <td>Yes</td>\n",
       "      <td>0</td>\n",
       "      <td>Not Graduate</td>\n",
       "      <td>No</td>\n",
       "      <td>2583</td>\n",
       "      <td>2358.0</td>\n",
       "      <td>120.0</td>\n",
       "      <td>360.0</td>\n",
       "      <td>1.0</td>\n",
       "      <td>Urban</td>\n",
       "      <td>Y</td>\n",
       "    </tr>\n",
       "    <tr>\n",
       "      <th>4</th>\n",
       "      <td>LP001008</td>\n",
       "      <td>Male</td>\n",
       "      <td>No</td>\n",
       "      <td>0</td>\n",
       "      <td>Graduate</td>\n",
       "      <td>No</td>\n",
       "      <td>6000</td>\n",
       "      <td>0.0</td>\n",
       "      <td>141.0</td>\n",
       "      <td>360.0</td>\n",
       "      <td>1.0</td>\n",
       "      <td>Urban</td>\n",
       "      <td>Y</td>\n",
       "    </tr>\n",
       "    <tr>\n",
       "      <th>5</th>\n",
       "      <td>LP001011</td>\n",
       "      <td>Male</td>\n",
       "      <td>Yes</td>\n",
       "      <td>2</td>\n",
       "      <td>Graduate</td>\n",
       "      <td>Yes</td>\n",
       "      <td>5417</td>\n",
       "      <td>4196.0</td>\n",
       "      <td>267.0</td>\n",
       "      <td>360.0</td>\n",
       "      <td>1.0</td>\n",
       "      <td>Urban</td>\n",
       "      <td>Y</td>\n",
       "    </tr>\n",
       "    <tr>\n",
       "      <th>6</th>\n",
       "      <td>LP001013</td>\n",
       "      <td>Male</td>\n",
       "      <td>Yes</td>\n",
       "      <td>0</td>\n",
       "      <td>Not Graduate</td>\n",
       "      <td>No</td>\n",
       "      <td>2333</td>\n",
       "      <td>1516.0</td>\n",
       "      <td>95.0</td>\n",
       "      <td>360.0</td>\n",
       "      <td>1.0</td>\n",
       "      <td>Urban</td>\n",
       "      <td>Y</td>\n",
       "    </tr>\n",
       "    <tr>\n",
       "      <th>7</th>\n",
       "      <td>LP001014</td>\n",
       "      <td>Male</td>\n",
       "      <td>Yes</td>\n",
       "      <td>3+</td>\n",
       "      <td>Graduate</td>\n",
       "      <td>No</td>\n",
       "      <td>3036</td>\n",
       "      <td>2504.0</td>\n",
       "      <td>158.0</td>\n",
       "      <td>360.0</td>\n",
       "      <td>0.0</td>\n",
       "      <td>Semiurban</td>\n",
       "      <td>N</td>\n",
       "    </tr>\n",
       "    <tr>\n",
       "      <th>8</th>\n",
       "      <td>LP001018</td>\n",
       "      <td>Male</td>\n",
       "      <td>Yes</td>\n",
       "      <td>2</td>\n",
       "      <td>Graduate</td>\n",
       "      <td>No</td>\n",
       "      <td>4006</td>\n",
       "      <td>1526.0</td>\n",
       "      <td>168.0</td>\n",
       "      <td>360.0</td>\n",
       "      <td>1.0</td>\n",
       "      <td>Urban</td>\n",
       "      <td>Y</td>\n",
       "    </tr>\n",
       "    <tr>\n",
       "      <th>9</th>\n",
       "      <td>LP001020</td>\n",
       "      <td>Male</td>\n",
       "      <td>Yes</td>\n",
       "      <td>1</td>\n",
       "      <td>Graduate</td>\n",
       "      <td>No</td>\n",
       "      <td>12841</td>\n",
       "      <td>10968.0</td>\n",
       "      <td>349.0</td>\n",
       "      <td>360.0</td>\n",
       "      <td>1.0</td>\n",
       "      <td>Semiurban</td>\n",
       "      <td>N</td>\n",
       "    </tr>\n",
       "    <tr>\n",
       "      <th>10</th>\n",
       "      <td>LP001024</td>\n",
       "      <td>Male</td>\n",
       "      <td>Yes</td>\n",
       "      <td>2</td>\n",
       "      <td>Graduate</td>\n",
       "      <td>No</td>\n",
       "      <td>3200</td>\n",
       "      <td>700.0</td>\n",
       "      <td>70.0</td>\n",
       "      <td>360.0</td>\n",
       "      <td>1.0</td>\n",
       "      <td>Urban</td>\n",
       "      <td>Y</td>\n",
       "    </tr>\n",
       "    <tr>\n",
       "      <th>11</th>\n",
       "      <td>LP001027</td>\n",
       "      <td>Male</td>\n",
       "      <td>Yes</td>\n",
       "      <td>2</td>\n",
       "      <td>Graduate</td>\n",
       "      <td>NaN</td>\n",
       "      <td>2500</td>\n",
       "      <td>1840.0</td>\n",
       "      <td>109.0</td>\n",
       "      <td>360.0</td>\n",
       "      <td>1.0</td>\n",
       "      <td>Urban</td>\n",
       "      <td>Y</td>\n",
       "    </tr>\n",
       "    <tr>\n",
       "      <th>12</th>\n",
       "      <td>LP001028</td>\n",
       "      <td>Male</td>\n",
       "      <td>Yes</td>\n",
       "      <td>2</td>\n",
       "      <td>Graduate</td>\n",
       "      <td>No</td>\n",
       "      <td>3073</td>\n",
       "      <td>8106.0</td>\n",
       "      <td>200.0</td>\n",
       "      <td>360.0</td>\n",
       "      <td>1.0</td>\n",
       "      <td>Urban</td>\n",
       "      <td>Y</td>\n",
       "    </tr>\n",
       "    <tr>\n",
       "      <th>13</th>\n",
       "      <td>LP001029</td>\n",
       "      <td>Male</td>\n",
       "      <td>No</td>\n",
       "      <td>0</td>\n",
       "      <td>Graduate</td>\n",
       "      <td>No</td>\n",
       "      <td>1853</td>\n",
       "      <td>2840.0</td>\n",
       "      <td>114.0</td>\n",
       "      <td>360.0</td>\n",
       "      <td>1.0</td>\n",
       "      <td>Rural</td>\n",
       "      <td>N</td>\n",
       "    </tr>\n",
       "    <tr>\n",
       "      <th>14</th>\n",
       "      <td>LP001030</td>\n",
       "      <td>Male</td>\n",
       "      <td>Yes</td>\n",
       "      <td>2</td>\n",
       "      <td>Graduate</td>\n",
       "      <td>No</td>\n",
       "      <td>1299</td>\n",
       "      <td>1086.0</td>\n",
       "      <td>17.0</td>\n",
       "      <td>120.0</td>\n",
       "      <td>1.0</td>\n",
       "      <td>Urban</td>\n",
       "      <td>Y</td>\n",
       "    </tr>\n",
       "    <tr>\n",
       "      <th>15</th>\n",
       "      <td>LP001032</td>\n",
       "      <td>Male</td>\n",
       "      <td>No</td>\n",
       "      <td>0</td>\n",
       "      <td>Graduate</td>\n",
       "      <td>No</td>\n",
       "      <td>4950</td>\n",
       "      <td>0.0</td>\n",
       "      <td>125.0</td>\n",
       "      <td>360.0</td>\n",
       "      <td>1.0</td>\n",
       "      <td>Urban</td>\n",
       "      <td>Y</td>\n",
       "    </tr>\n",
       "    <tr>\n",
       "      <th>16</th>\n",
       "      <td>LP001034</td>\n",
       "      <td>Male</td>\n",
       "      <td>No</td>\n",
       "      <td>1</td>\n",
       "      <td>Not Graduate</td>\n",
       "      <td>No</td>\n",
       "      <td>3596</td>\n",
       "      <td>0.0</td>\n",
       "      <td>100.0</td>\n",
       "      <td>240.0</td>\n",
       "      <td>NaN</td>\n",
       "      <td>Urban</td>\n",
       "      <td>Y</td>\n",
       "    </tr>\n",
       "    <tr>\n",
       "      <th>17</th>\n",
       "      <td>LP001036</td>\n",
       "      <td>Female</td>\n",
       "      <td>No</td>\n",
       "      <td>0</td>\n",
       "      <td>Graduate</td>\n",
       "      <td>No</td>\n",
       "      <td>3510</td>\n",
       "      <td>0.0</td>\n",
       "      <td>76.0</td>\n",
       "      <td>360.0</td>\n",
       "      <td>0.0</td>\n",
       "      <td>Urban</td>\n",
       "      <td>N</td>\n",
       "    </tr>\n",
       "    <tr>\n",
       "      <th>18</th>\n",
       "      <td>LP001038</td>\n",
       "      <td>Male</td>\n",
       "      <td>Yes</td>\n",
       "      <td>0</td>\n",
       "      <td>Not Graduate</td>\n",
       "      <td>No</td>\n",
       "      <td>4887</td>\n",
       "      <td>0.0</td>\n",
       "      <td>133.0</td>\n",
       "      <td>360.0</td>\n",
       "      <td>1.0</td>\n",
       "      <td>Rural</td>\n",
       "      <td>N</td>\n",
       "    </tr>\n",
       "    <tr>\n",
       "      <th>19</th>\n",
       "      <td>LP001041</td>\n",
       "      <td>Male</td>\n",
       "      <td>Yes</td>\n",
       "      <td>0</td>\n",
       "      <td>Graduate</td>\n",
       "      <td>NaN</td>\n",
       "      <td>2600</td>\n",
       "      <td>3500.0</td>\n",
       "      <td>115.0</td>\n",
       "      <td>NaN</td>\n",
       "      <td>1.0</td>\n",
       "      <td>Urban</td>\n",
       "      <td>Y</td>\n",
       "    </tr>\n",
       "  </tbody>\n",
       "</table>\n",
       "</div>"
      ],
      "text/plain": [
       "     Loan_ID  Gender Married Dependents     Education Self_Employed  \\\n",
       "0   LP001002    Male      No          0      Graduate            No   \n",
       "1   LP001003    Male     Yes          1      Graduate            No   \n",
       "2   LP001005    Male     Yes          0      Graduate           Yes   \n",
       "3   LP001006    Male     Yes          0  Not Graduate            No   \n",
       "4   LP001008    Male      No          0      Graduate            No   \n",
       "5   LP001011    Male     Yes          2      Graduate           Yes   \n",
       "6   LP001013    Male     Yes          0  Not Graduate            No   \n",
       "7   LP001014    Male     Yes         3+      Graduate            No   \n",
       "8   LP001018    Male     Yes          2      Graduate            No   \n",
       "9   LP001020    Male     Yes          1      Graduate            No   \n",
       "10  LP001024    Male     Yes          2      Graduate            No   \n",
       "11  LP001027    Male     Yes          2      Graduate           NaN   \n",
       "12  LP001028    Male     Yes          2      Graduate            No   \n",
       "13  LP001029    Male      No          0      Graduate            No   \n",
       "14  LP001030    Male     Yes          2      Graduate            No   \n",
       "15  LP001032    Male      No          0      Graduate            No   \n",
       "16  LP001034    Male      No          1  Not Graduate            No   \n",
       "17  LP001036  Female      No          0      Graduate            No   \n",
       "18  LP001038    Male     Yes          0  Not Graduate            No   \n",
       "19  LP001041    Male     Yes          0      Graduate           NaN   \n",
       "\n",
       "    ApplicantIncome  CoapplicantIncome  LoanAmount  Loan_Amount_Term  \\\n",
       "0              5849                0.0         NaN             360.0   \n",
       "1              4583             1508.0       128.0             360.0   \n",
       "2              3000                0.0        66.0             360.0   \n",
       "3              2583             2358.0       120.0             360.0   \n",
       "4              6000                0.0       141.0             360.0   \n",
       "5              5417             4196.0       267.0             360.0   \n",
       "6              2333             1516.0        95.0             360.0   \n",
       "7              3036             2504.0       158.0             360.0   \n",
       "8              4006             1526.0       168.0             360.0   \n",
       "9             12841            10968.0       349.0             360.0   \n",
       "10             3200              700.0        70.0             360.0   \n",
       "11             2500             1840.0       109.0             360.0   \n",
       "12             3073             8106.0       200.0             360.0   \n",
       "13             1853             2840.0       114.0             360.0   \n",
       "14             1299             1086.0        17.0             120.0   \n",
       "15             4950                0.0       125.0             360.0   \n",
       "16             3596                0.0       100.0             240.0   \n",
       "17             3510                0.0        76.0             360.0   \n",
       "18             4887                0.0       133.0             360.0   \n",
       "19             2600             3500.0       115.0               NaN   \n",
       "\n",
       "    Credit_History Property_Area Loan_Status  \n",
       "0              1.0         Urban           Y  \n",
       "1              1.0         Rural           N  \n",
       "2              1.0         Urban           Y  \n",
       "3              1.0         Urban           Y  \n",
       "4              1.0         Urban           Y  \n",
       "5              1.0         Urban           Y  \n",
       "6              1.0         Urban           Y  \n",
       "7              0.0     Semiurban           N  \n",
       "8              1.0         Urban           Y  \n",
       "9              1.0     Semiurban           N  \n",
       "10             1.0         Urban           Y  \n",
       "11             1.0         Urban           Y  \n",
       "12             1.0         Urban           Y  \n",
       "13             1.0         Rural           N  \n",
       "14             1.0         Urban           Y  \n",
       "15             1.0         Urban           Y  \n",
       "16             NaN         Urban           Y  \n",
       "17             0.0         Urban           N  \n",
       "18             1.0         Rural           N  \n",
       "19             1.0         Urban           Y  "
      ]
     },
     "execution_count": 6,
     "metadata": {},
     "output_type": "execute_result"
    }
   ],
   "source": [
    "train_dataset.head(20)"
   ]
  },
  {
   "cell_type": "code",
   "execution_count": 7,
   "id": "7315d16c",
   "metadata": {},
   "outputs": [
    {
     "data": {
      "text/plain": [
       "Loan_ID               0\n",
       "Gender               13\n",
       "Married               3\n",
       "Dependents           15\n",
       "Education             0\n",
       "Self_Employed        32\n",
       "ApplicantIncome       0\n",
       "CoapplicantIncome     0\n",
       "LoanAmount           22\n",
       "Loan_Amount_Term     14\n",
       "Credit_History       50\n",
       "Property_Area         0\n",
       "Loan_Status           0\n",
       "dtype: int64"
      ]
     },
     "execution_count": 7,
     "metadata": {},
     "output_type": "execute_result"
    }
   ],
   "source": [
    "# checking the missing (null) values in each of the column \n",
    "train_dataset.isnull().sum()"
   ]
  },
  {
   "cell_type": "markdown",
   "id": "fc8bab4d",
   "metadata": {},
   "source": [
    "# Data Analyzing"
   ]
  },
  {
   "cell_type": "code",
   "execution_count": 8,
   "id": "fabc244f",
   "metadata": {},
   "outputs": [
    {
     "data": {
      "text/plain": [
       "<AxesSubplot:title={'center':'Gender'}>"
      ]
     },
     "execution_count": 8,
     "metadata": {},
     "output_type": "execute_result"
    },
    {
     "data": {
      "image/png": "[encoded data removed]",
      "text/plain": [
       "<Figure size 432x288 with 1 Axes>"
      ]
     },
     "metadata": {
      "needs_background": "light"
     },
     "output_type": "display_data"
    }
   ],
   "source": [
    "train_dataset['Gender'].value_counts(normalize=True).plot.bar(title='Gender')"
   ]
  },
  {
   "cell_type": "code",
   "execution_count": 9,
   "id": "e4076f7b",
   "metadata": {},
   "outputs": [
    {
     "data": {
      "text/plain": [
       "<AxesSubplot:title={'center':'Married'}>"
      ]
     },
     "execution_count": 9,
     "metadata": {},
     "output_type": "execute_result"
    },
    {
     "data": {
      "image/png": "[encoded data removed]",
      "text/plain": [
       "<Figure size 432x288 with 1 Axes>"
      ]
     },
     "metadata": {
      "needs_background": "light"
     },
     "output_type": "display_data"
    }
   ],
   "source": [
    "train_dataset['Married'].value_counts(normalize=True).plot.bar(title='Married')"
   ]
  },
  {
   "cell_type": "code",
   "execution_count": 10,
   "id": "de12c356",
   "metadata": {},
   "outputs": [
    {
     "data": {
      "text/plain": [
       "<AxesSubplot:title={'center':'Self_Employed'}>"
      ]
     },
     "execution_count": 10,
     "metadata": {},
     "output_type": "execute_result"
    },
    {
     "data": {
      "image/png": "[encoded data removed]",
      "text/plain": [
       "<Figure size 432x288 with 1 Axes>"
      ]
     },
     "metadata": {
      "needs_background": "light"
     },
     "output_type": "display_data"
    }
   ],
   "source": [
    "train_dataset['Self_Employed'].value_counts(normalize=True).plot.bar(title='Self_Employed')"
   ]
  },
  {
   "cell_type": "code",
   "execution_count": 11,
   "id": "0c1c3183",
   "metadata": {},
   "outputs": [
    {
     "data": {
      "text/plain": [
       "<AxesSubplot:title={'center':'Credit_History'}>"
      ]
     },
     "execution_count": 11,
     "metadata": {},
     "output_type": "execute_result"
    },
    {
     "data": {
      "image/png": "[encoded data removed]",
      "text/plain": [
       "<Figure size 432x288 with 1 Axes>"
      ]
     },
     "metadata": {
      "needs_background": "light"
     },
     "output_type": "display_data"
    }
   ],
   "source": [
    "train_dataset['Credit_History'].value_counts(normalize=True).plot.bar(title='Credit_History')"
   ]
  },
  {
   "cell_type": "code",
   "execution_count": 12,
   "id": "f4eafc3f",
   "metadata": {},
   "outputs": [],
   "source": [
    "# 80% of applicants are male\n",
    "# around 65% of applicants are married\n",
    "# aroung 15% of applicants are self-empoyed\n",
    "# around 85% of applicants have good credit history"
   ]
  },
  {
   "cell_type": "code",
   "execution_count": null,
   "id": "ff7b3e0c",
   "metadata": {},
   "outputs": [],
   "source": []
  },
  {
   "cell_type": "code",
   "execution_count": 13,
   "id": "c733a28c",
   "metadata": {},
   "outputs": [
    {
     "data": {
      "text/plain": [
       "<AxesSubplot:title={'center':'Dependents'}>"
      ]
     },
     "execution_count": 13,
     "metadata": {},
     "output_type": "execute_result"
    },
    {
     "data": {
      "image/png": "[encoded data removed]",
      "text/plain": [
       "<Figure size 432x288 with 1 Axes>"
      ]
     },
     "metadata": {
      "needs_background": "light"
     },
     "output_type": "display_data"
    }
   ],
   "source": [
    "train_dataset['Dependents'].value_counts(normalize=True).plot.bar(title='Dependents')"
   ]
  },
  {
   "cell_type": "code",
   "execution_count": 14,
   "id": "ae2e5d20",
   "metadata": {},
   "outputs": [
    {
     "data": {
      "text/plain": [
       "<AxesSubplot:title={'center':'Education'}>"
      ]
     },
     "execution_count": 14,
     "metadata": {},
     "output_type": "execute_result"
    },
    {
     "data": {
      "image/png": "[encoded data removed]",
      "text/plain": [
       "<Figure size 432x288 with 1 Axes>"
      ]
     },
     "metadata": {
      "needs_background": "light"
     },
     "output_type": "display_data"
    }
   ],
   "source": [
    "train_dataset['Education'].value_counts(normalize=True).plot.bar(title='Education')"
   ]
  },
  {
   "cell_type": "code",
   "execution_count": 15,
   "id": "5a6e6cb6",
   "metadata": {},
   "outputs": [
    {
     "data": {
      "text/plain": [
       "<AxesSubplot:title={'center':'Property_Area'}>"
      ]
     },
     "execution_count": 15,
     "metadata": {},
     "output_type": "execute_result"
    },
    {
     "data": {
      "image/png": "[encoded data removed]",
      "text/plain": [
       "<Figure size 432x288 with 1 Axes>"
      ]
     },
     "metadata": {
      "needs_background": "light"
     },
     "output_type": "display_data"
    }
   ],
   "source": [
    "train_dataset['Property_Area'].value_counts(normalize=True).plot.bar(title='Property_Area')"
   ]
  },
  {
   "cell_type": "code",
   "execution_count": 16,
   "id": "0df55dfe",
   "metadata": {},
   "outputs": [],
   "source": [
    "# Most of the applicants have no dependents\n",
    "# around 78% of applicants are graduated\n",
    "# Most of the applicants are from semi urban area"
   ]
  },
  {
   "cell_type": "code",
   "execution_count": 17,
   "id": "40345ce8",
   "metadata": {},
   "outputs": [
    {
     "name": "stderr",
     "output_type": "stream",
     "text": [
      "C:\\Users\\sidhant\\anaconda3\\envs\\tf_2.4\\lib\\site-packages\\seaborn\\distributions.py:2557: FutureWarning: `distplot` is a deprecated function and will be removed in a future version. Please adapt your code to use either `displot` (a figure-level function with similar flexibility) or `histplot` (an axes-level function for histograms).\n",
      "  warnings.warn(msg, FutureWarning)\n"
     ]
    },
    {
     "data": {
      "text/plain": [
       "<AxesSubplot:xlabel='ApplicantIncome', ylabel='Density'>"
      ]
     },
     "execution_count": 17,
     "metadata": {},
     "output_type": "execute_result"
    },
    {
     "data": {
      "image/png": "[encoded data removed]",
      "text/plain": [
       "<Figure size 432x288 with 1 Axes>"
      ]
     },
     "metadata": {
      "needs_background": "light"
     },
     "output_type": "display_data"
    }
   ],
   "source": [
    "sns.distplot(train_dataset['ApplicantIncome'])"
   ]
  },
  {
   "cell_type": "code",
   "execution_count": 18,
   "id": "439d84cf",
   "metadata": {},
   "outputs": [
    {
     "name": "stderr",
     "output_type": "stream",
     "text": [
      "C:\\Users\\sidhant\\anaconda3\\envs\\tf_2.4\\lib\\site-packages\\seaborn\\_decorators.py:36: FutureWarning: Pass the following variable as a keyword arg: x. From version 0.12, the only valid positional argument will be `data`, and passing other arguments without an explicit keyword will result in an error or misinterpretation.\n",
      "  warnings.warn(\n"
     ]
    },
    {
     "data": {
      "text/plain": [
       "<AxesSubplot:xlabel='ApplicantIncome'>"
      ]
     },
     "execution_count": 18,
     "metadata": {},
     "output_type": "execute_result"
    },
    {
     "data": {
      "image/png": "[encoded data removed]",
      "text/plain": [
       "<Figure size 432x288 with 1 Axes>"
      ]
     },
     "metadata": {
      "needs_background": "light"
     },
     "output_type": "display_data"
    }
   ],
   "source": [
    "sns.boxplot(train_dataset['ApplicantIncome'])"
   ]
  },
  {
   "cell_type": "code",
   "execution_count": 19,
   "id": "40f79219",
   "metadata": {},
   "outputs": [],
   "source": [
    "# It can be inferred that the data is right skewed from the histogram plot\n",
    "# therefore we have to make the data more normally distributed"
   ]
  },
  {
   "cell_type": "code",
   "execution_count": 20,
   "id": "08821a95",
   "metadata": {},
   "outputs": [],
   "source": [
    "# the boxplot confirms the outliers values which is due to the income diparity\n",
    "# in the society"
   ]
  },
  {
   "cell_type": "code",
   "execution_count": 21,
   "id": "0cd7e029",
   "metadata": {},
   "outputs": [
    {
     "data": {
      "text/plain": [
       "<AxesSubplot:xlabel='Education', ylabel='ApplicantIncome'>"
      ]
     },
     "execution_count": 21,
     "metadata": {},
     "output_type": "execute_result"
    },
    {
     "data": {
      "image/png": "[encoded data removed]",
      "text/plain": [
       "<Figure size 432x288 with 1 Axes>"
      ]
     },
     "metadata": {
      "needs_background": "light"
     },
     "output_type": "display_data"
    }
   ],
   "source": [
    "sns.boxplot(y = train_dataset['ApplicantIncome'], x= train_dataset['Education'])"
   ]
  },
  {
   "cell_type": "code",
   "execution_count": 22,
   "id": "520ddb87",
   "metadata": {},
   "outputs": [],
   "source": [
    "# We can see graduates have very high incomes, which are appearing as outliers"
   ]
  },
  {
   "cell_type": "code",
   "execution_count": 23,
   "id": "e34f430a",
   "metadata": {},
   "outputs": [
    {
     "name": "stderr",
     "output_type": "stream",
     "text": [
      "C:\\Users\\sidhant\\anaconda3\\envs\\tf_2.4\\lib\\site-packages\\seaborn\\distributions.py:2557: FutureWarning: `distplot` is a deprecated function and will be removed in a future version. Please adapt your code to use either `displot` (a figure-level function with similar flexibility) or `histplot` (an axes-level function for histograms).\n",
      "  warnings.warn(msg, FutureWarning)\n"
     ]
    },
    {
     "data": {
      "text/plain": [
       "<AxesSubplot:xlabel='CoapplicantIncome', ylabel='Density'>"
      ]
     },
     "execution_count": 23,
     "metadata": {},
     "output_type": "execute_result"
    },
    {
     "data": {
      "image/png": "[encoded data removed]",
      "text/plain": [
       "<Figure size 432x288 with 1 Axes>"
      ]
     },
     "metadata": {
      "needs_background": "light"
     },
     "output_type": "display_data"
    }
   ],
   "source": [
    "sns.distplot(train_dataset['CoapplicantIncome'])"
   ]
  },
  {
   "cell_type": "code",
   "execution_count": 24,
   "id": "bf461e9e",
   "metadata": {},
   "outputs": [
    {
     "name": "stderr",
     "output_type": "stream",
     "text": [
      "C:\\Users\\sidhant\\anaconda3\\envs\\tf_2.4\\lib\\site-packages\\seaborn\\_decorators.py:36: FutureWarning: Pass the following variable as a keyword arg: x. From version 0.12, the only valid positional argument will be `data`, and passing other arguments without an explicit keyword will result in an error or misinterpretation.\n",
      "  warnings.warn(\n"
     ]
    },
    {
     "data": {
      "text/plain": [
       "<AxesSubplot:xlabel='CoapplicantIncome'>"
      ]
     },
     "execution_count": 24,
     "metadata": {},
     "output_type": "execute_result"
    },
    {
     "data": {
      "image/png": "[encoded data removed]",
      "text/plain": [
       "<Figure size 432x288 with 1 Axes>"
      ]
     },
     "metadata": {
      "needs_background": "light"
     },
     "output_type": "display_data"
    }
   ],
   "source": [
    "sns.boxplot(train_dataset['CoapplicantIncome'])"
   ]
  },
  {
   "cell_type": "code",
   "execution_count": 25,
   "id": "ee1a7bae",
   "metadata": {},
   "outputs": [],
   "source": [
    "# The coapplicant income is also right skewed \n",
    "# the column of data is not normally distributed\n",
    "# The coapplicant income also has very high no of outliers too, same as applicant income"
   ]
  },
  {
   "cell_type": "code",
   "execution_count": 26,
   "id": "5f394db6",
   "metadata": {},
   "outputs": [
    {
     "name": "stderr",
     "output_type": "stream",
     "text": [
      "C:\\Users\\sidhant\\anaconda3\\envs\\tf_2.4\\lib\\site-packages\\seaborn\\distributions.py:2557: FutureWarning: `distplot` is a deprecated function and will be removed in a future version. Please adapt your code to use either `displot` (a figure-level function with similar flexibility) or `histplot` (an axes-level function for histograms).\n",
      "  warnings.warn(msg, FutureWarning)\n"
     ]
    },
    {
     "data": {
      "text/plain": [
       "<AxesSubplot:xlabel='LoanAmount', ylabel='Density'>"
      ]
     },
     "execution_count": 26,
     "metadata": {},
     "output_type": "execute_result"
    },
    {
     "data": {
      "image/png": "[encoded data removed]",
      "text/plain": [
       "<Figure size 432x288 with 1 Axes>"
      ]
     },
     "metadata": {
      "needs_background": "light"
     },
     "output_type": "display_data"
    }
   ],
   "source": [
    "sns.distplot(train_dataset['LoanAmount'])"
   ]
  },
  {
   "cell_type": "code",
   "execution_count": 27,
   "id": "47fc1566",
   "metadata": {},
   "outputs": [
    {
     "name": "stderr",
     "output_type": "stream",
     "text": [
      "C:\\Users\\sidhant\\anaconda3\\envs\\tf_2.4\\lib\\site-packages\\seaborn\\_decorators.py:36: FutureWarning: Pass the following variable as a keyword arg: x. From version 0.12, the only valid positional argument will be `data`, and passing other arguments without an explicit keyword will result in an error or misinterpretation.\n",
      "  warnings.warn(\n"
     ]
    },
    {
     "data": {
      "text/plain": [
       "<AxesSubplot:xlabel='LoanAmount'>"
      ]
     },
     "execution_count": 27,
     "metadata": {},
     "output_type": "execute_result"
    },
    {
     "data": {
      "image/png": "[encoded data removed]",
      "text/plain": [
       "<Figure size 432x288 with 1 Axes>"
      ]
     },
     "metadata": {
      "needs_background": "light"
     },
     "output_type": "display_data"
    }
   ],
   "source": [
    "sns.boxplot(train_dataset['LoanAmount'])"
   ]
  },
  {
   "cell_type": "code",
   "execution_count": 28,
   "id": "7ea47d31",
   "metadata": {},
   "outputs": [],
   "source": [
    "# The Loanamount is fairly normally distributed\n",
    "# but it also has very high no of outliers"
   ]
  },
  {
   "cell_type": "markdown",
   "id": "7df0bbb2",
   "metadata": {},
   "source": [
    "# Filling the missing values"
   ]
  },
  {
   "cell_type": "code",
   "execution_count": 29,
   "id": "f9cd7123",
   "metadata": {},
   "outputs": [
    {
     "data": {
      "text/plain": [
       "Loan_ID               0\n",
       "Gender               13\n",
       "Married               3\n",
       "Dependents           15\n",
       "Education             0\n",
       "Self_Employed        32\n",
       "ApplicantIncome       0\n",
       "CoapplicantIncome     0\n",
       "LoanAmount           22\n",
       "Loan_Amount_Term     14\n",
       "Credit_History       50\n",
       "Property_Area         0\n",
       "Loan_Status           0\n",
       "dtype: int64"
      ]
     },
     "execution_count": 29,
     "metadata": {},
     "output_type": "execute_result"
    }
   ],
   "source": [
    "train_dataset.isnull().sum()"
   ]
  },
  {
   "cell_type": "code",
   "execution_count": 30,
   "id": "06d6fd7f",
   "metadata": {},
   "outputs": [],
   "source": [
    "gender_miss_val = mode(train_dataset['Gender']).mode[0]\n",
    "married_miss_val = mode(train_dataset['Married']).mode[0]\n",
    "dependents_miss_val = mode(train_dataset['Dependents']).mode[0]\n",
    "self_employed_miss_val = mode(train_dataset['Self_Employed']).mode[0]\n",
    "credit_hist_miss_val = mode(train_dataset['Credit_History']).mode[0]"
   ]
  },
  {
   "cell_type": "code",
   "execution_count": 31,
   "id": "2cbdc6e9",
   "metadata": {},
   "outputs": [],
   "source": [
    "loan_amount_term_miss_val = mode(train_dataset['Loan_Amount_Term']).mode[0]"
   ]
  },
  {
   "cell_type": "code",
   "execution_count": 32,
   "id": "bc55d757",
   "metadata": {},
   "outputs": [],
   "source": [
    "loan_amount_miss_val = train_dataset['LoanAmount'].median()"
   ]
  },
  {
   "cell_type": "code",
   "execution_count": 33,
   "id": "98dd2a37",
   "metadata": {},
   "outputs": [],
   "source": [
    "train_dataset['Gender'].fillna(gender_miss_val, inplace=True)\n",
    "train_dataset['Married'].fillna(married_miss_val, inplace=True)\n",
    "train_dataset['Dependents'].fillna(dependents_miss_val, inplace=True)\n",
    "train_dataset['Self_Employed'].fillna(self_employed_miss_val, inplace=True)\n",
    "train_dataset['LoanAmount'].fillna(loan_amount_miss_val, inplace=True)\n",
    "train_dataset['Loan_Amount_Term'].fillna(loan_amount_term_miss_val, inplace=True)\n",
    "train_dataset['Credit_History'].fillna(credit_hist_miss_val, inplace=True)"
   ]
  },
  {
   "cell_type": "code",
   "execution_count": 34,
   "id": "4b94ccfb",
   "metadata": {},
   "outputs": [
    {
     "data": {
      "text/plain": [
       "Loan_ID              0\n",
       "Gender               0\n",
       "Married              0\n",
       "Dependents           0\n",
       "Education            0\n",
       "Self_Employed        0\n",
       "ApplicantIncome      0\n",
       "CoapplicantIncome    0\n",
       "LoanAmount           0\n",
       "Loan_Amount_Term     0\n",
       "Credit_History       0\n",
       "Property_Area        0\n",
       "Loan_Status          0\n",
       "dtype: int64"
      ]
     },
     "execution_count": 34,
     "metadata": {},
     "output_type": "execute_result"
    }
   ],
   "source": [
    "train_dataset.isnull().sum()"
   ]
  },
  {
   "cell_type": "markdown",
   "id": "442d460d",
   "metadata": {},
   "source": [
    "# Adding some new columns in the train dataset"
   ]
  },
  {
   "cell_type": "code",
   "execution_count": 35,
   "id": "f4063d4f",
   "metadata": {},
   "outputs": [],
   "source": [
    "train_dataset['Loan_amount_log'] = np.log(train_dataset['LoanAmount'])"
   ]
  },
  {
   "cell_type": "code",
   "execution_count": 36,
   "id": "5a186721",
   "metadata": {},
   "outputs": [],
   "source": [
    "train_dataset['Total_income'] = train_dataset['ApplicantIncome'] + train_dataset['CoapplicantIncome']"
   ]
  },
  {
   "cell_type": "code",
   "execution_count": 37,
   "id": "5f4084c8",
   "metadata": {},
   "outputs": [
    {
     "name": "stderr",
     "output_type": "stream",
     "text": [
      "C:\\Users\\sidhant\\anaconda3\\envs\\tf_2.4\\lib\\site-packages\\seaborn\\distributions.py:2557: FutureWarning: `distplot` is a deprecated function and will be removed in a future version. Please adapt your code to use either `displot` (a figure-level function with similar flexibility) or `histplot` (an axes-level function for histograms).\n",
      "  warnings.warn(msg, FutureWarning)\n"
     ]
    },
    {
     "data": {
      "text/plain": [
       "<AxesSubplot:xlabel='Total_income', ylabel='Density'>"
      ]
     },
     "execution_count": 37,
     "metadata": {},
     "output_type": "execute_result"
    },
    {
     "data": {
      "image/png": "[encoded data removed]",
      "text/plain": [
       "<Figure size 432x288 with 1 Axes>"
      ]
     },
     "metadata": {
      "needs_background": "light"
     },
     "output_type": "display_data"
    }
   ],
   "source": [
    "sns.distplot(train_dataset['Total_income'])"
   ]
  },
  {
   "cell_type": "code",
   "execution_count": 38,
   "id": "79e8eec6",
   "metadata": {},
   "outputs": [],
   "source": [
    "# as the total income is also right skewed so we are making the log transformation of this\n",
    "# and adding into the training set"
   ]
  },
  {
   "cell_type": "code",
   "execution_count": 39,
   "id": "f7f88005",
   "metadata": {},
   "outputs": [],
   "source": [
    "train_dataset['Total_income_log'] = np.log(train_dataset['Total_income'])"
   ]
  },
  {
   "cell_type": "code",
   "execution_count": 40,
   "id": "98c28c3f",
   "metadata": {},
   "outputs": [
    {
     "name": "stderr",
     "output_type": "stream",
     "text": [
      "C:\\Users\\sidhant\\anaconda3\\envs\\tf_2.4\\lib\\site-packages\\seaborn\\distributions.py:2557: FutureWarning: `distplot` is a deprecated function and will be removed in a future version. Please adapt your code to use either `displot` (a figure-level function with similar flexibility) or `histplot` (an axes-level function for histograms).\n",
      "  warnings.warn(msg, FutureWarning)\n"
     ]
    },
    {
     "data": {
      "text/plain": [
       "<AxesSubplot:xlabel='Total_income_log', ylabel='Density'>"
      ]
     },
     "execution_count": 40,
     "metadata": {},
     "output_type": "execute_result"
    },
    {
     "data": {
      "image/png": "[encoded data removed]",
      "text/plain": [
       "<Figure size 432x288 with 1 Axes>"
      ]
     },
     "metadata": {
      "needs_background": "light"
     },
     "output_type": "display_data"
    }
   ],
   "source": [
    "sns.distplot(train_dataset['Total_income_log'])"
   ]
  },
  {
   "cell_type": "code",
   "execution_count": 41,
   "id": "9903035a",
   "metadata": {},
   "outputs": [],
   "source": [
    "# This distribution is much more closely to normal distribution"
   ]
  },
  {
   "cell_type": "markdown",
   "id": "fb27c754",
   "metadata": {},
   "source": [
    "# Encoding the Columns"
   ]
  },
  {
   "cell_type": "code",
   "execution_count": 42,
   "id": "92023ece",
   "metadata": {},
   "outputs": [],
   "source": [
    "gender_encoding = {'Male':0, 'Female':1}\n",
    "married_encoding = {'No':0, 'Yes':1}\n",
    "education_encoding = {'Not Graduate':0, 'Graduate':1}\n",
    "self_employed_encoding = {'No':0, 'Yes':1}\n",
    "dependents_encoding = {'0':0, '1':1, '2':2, '3+':4}\n",
    "property_encoding = {'Rural':0, 'Semiurban':1, 'Urban':2}\n",
    "loan_status_encoding = {'N':0, 'Y':1}"
   ]
  },
  {
   "cell_type": "code",
   "execution_count": 43,
   "id": "e3c24e4a",
   "metadata": {},
   "outputs": [],
   "source": [
    "train_dataset.replace({'Gender':gender_encoding, 'Married':married_encoding, 'Education':education_encoding,\n",
    "                      'Self_Employed':self_employed_encoding, 'Dependents':dependents_encoding, 'Property_Area':property_encoding}, \n",
    "                     inplace=True)"
   ]
  },
  {
   "cell_type": "code",
   "execution_count": 44,
   "id": "a1e0c1e7",
   "metadata": {},
   "outputs": [],
   "source": [
    "train_dataset.replace({'Loan_Status':loan_status_encoding}, inplace=True)"
   ]
  },
  {
   "cell_type": "code",
   "execution_count": 45,
   "id": "97f18d92",
   "metadata": {},
   "outputs": [
    {
     "data": {
      "text/html": [
       "<div>\n",
       "<style scoped>\n",
       "    .dataframe tbody tr th:only-of-type {\n",
       "        vertical-align: middle;\n",
       "    }\n",
       "\n",
       "    .dataframe tbody tr th {\n",
       "        vertical-align: top;\n",
       "    }\n",
       "\n",
       "    .dataframe thead th {\n",
       "        text-align: right;\n",
       "    }\n",
       "</style>\n",
       "<table border=\"1\" class=\"dataframe\">\n",
       "  <thead>\n",
       "    <tr style=\"text-align: right;\">\n",
       "      <th></th>\n",
       "      <th>Loan_ID</th>\n",
       "      <th>Gender</th>\n",
       "      <th>Married</th>\n",
       "      <th>Dependents</th>\n",
       "      <th>Education</th>\n",
       "      <th>Self_Employed</th>\n",
       "      <th>ApplicantIncome</th>\n",
       "      <th>CoapplicantIncome</th>\n",
       "      <th>LoanAmount</th>\n",
       "      <th>Loan_Amount_Term</th>\n",
       "      <th>Credit_History</th>\n",
       "      <th>Property_Area</th>\n",
       "      <th>Loan_Status</th>\n",
       "      <th>Loan_amount_log</th>\n",
       "      <th>Total_income</th>\n",
       "      <th>Total_income_log</th>\n",
       "    </tr>\n",
       "  </thead>\n",
       "  <tbody>\n",
       "    <tr>\n",
       "      <th>0</th>\n",
       "      <td>LP001002</td>\n",
       "      <td>0</td>\n",
       "      <td>0</td>\n",
       "      <td>0</td>\n",
       "      <td>1</td>\n",
       "      <td>0</td>\n",
       "      <td>5849</td>\n",
       "      <td>0.0</td>\n",
       "      <td>128.0</td>\n",
       "      <td>360.0</td>\n",
       "      <td>1.0</td>\n",
       "      <td>2</td>\n",
       "      <td>1</td>\n",
       "      <td>4.852030</td>\n",
       "      <td>5849.0</td>\n",
       "      <td>8.674026</td>\n",
       "    </tr>\n",
       "    <tr>\n",
       "      <th>1</th>\n",
       "      <td>LP001003</td>\n",
       "      <td>0</td>\n",
       "      <td>1</td>\n",
       "      <td>1</td>\n",
       "      <td>1</td>\n",
       "      <td>0</td>\n",
       "      <td>4583</td>\n",
       "      <td>1508.0</td>\n",
       "      <td>128.0</td>\n",
       "      <td>360.0</td>\n",
       "      <td>1.0</td>\n",
       "      <td>0</td>\n",
       "      <td>0</td>\n",
       "      <td>4.852030</td>\n",
       "      <td>6091.0</td>\n",
       "      <td>8.714568</td>\n",
       "    </tr>\n",
       "    <tr>\n",
       "      <th>2</th>\n",
       "      <td>LP001005</td>\n",
       "      <td>0</td>\n",
       "      <td>1</td>\n",
       "      <td>0</td>\n",
       "      <td>1</td>\n",
       "      <td>1</td>\n",
       "      <td>3000</td>\n",
       "      <td>0.0</td>\n",
       "      <td>66.0</td>\n",
       "      <td>360.0</td>\n",
       "      <td>1.0</td>\n",
       "      <td>2</td>\n",
       "      <td>1</td>\n",
       "      <td>4.189655</td>\n",
       "      <td>3000.0</td>\n",
       "      <td>8.006368</td>\n",
       "    </tr>\n",
       "    <tr>\n",
       "      <th>3</th>\n",
       "      <td>LP001006</td>\n",
       "      <td>0</td>\n",
       "      <td>1</td>\n",
       "      <td>0</td>\n",
       "      <td>0</td>\n",
       "      <td>0</td>\n",
       "      <td>2583</td>\n",
       "      <td>2358.0</td>\n",
       "      <td>120.0</td>\n",
       "      <td>360.0</td>\n",
       "      <td>1.0</td>\n",
       "      <td>2</td>\n",
       "      <td>1</td>\n",
       "      <td>4.787492</td>\n",
       "      <td>4941.0</td>\n",
       "      <td>8.505323</td>\n",
       "    </tr>\n",
       "    <tr>\n",
       "      <th>4</th>\n",
       "      <td>LP001008</td>\n",
       "      <td>0</td>\n",
       "      <td>0</td>\n",
       "      <td>0</td>\n",
       "      <td>1</td>\n",
       "      <td>0</td>\n",
       "      <td>6000</td>\n",
       "      <td>0.0</td>\n",
       "      <td>141.0</td>\n",
       "      <td>360.0</td>\n",
       "      <td>1.0</td>\n",
       "      <td>2</td>\n",
       "      <td>1</td>\n",
       "      <td>4.948760</td>\n",
       "      <td>6000.0</td>\n",
       "      <td>8.699515</td>\n",
       "    </tr>\n",
       "    <tr>\n",
       "      <th>...</th>\n",
       "      <td>...</td>\n",
       "      <td>...</td>\n",
       "      <td>...</td>\n",
       "      <td>...</td>\n",
       "      <td>...</td>\n",
       "      <td>...</td>\n",
       "      <td>...</td>\n",
       "      <td>...</td>\n",
       "      <td>...</td>\n",
       "      <td>...</td>\n",
       "      <td>...</td>\n",
       "      <td>...</td>\n",
       "      <td>...</td>\n",
       "      <td>...</td>\n",
       "      <td>...</td>\n",
       "      <td>...</td>\n",
       "    </tr>\n",
       "    <tr>\n",
       "      <th>609</th>\n",
       "      <td>LP002978</td>\n",
       "      <td>1</td>\n",
       "      <td>0</td>\n",
       "      <td>0</td>\n",
       "      <td>1</td>\n",
       "      <td>0</td>\n",
       "      <td>2900</td>\n",
       "      <td>0.0</td>\n",
       "      <td>71.0</td>\n",
       "      <td>360.0</td>\n",
       "      <td>1.0</td>\n",
       "      <td>0</td>\n",
       "      <td>1</td>\n",
       "      <td>4.262680</td>\n",
       "      <td>2900.0</td>\n",
       "      <td>7.972466</td>\n",
       "    </tr>\n",
       "    <tr>\n",
       "      <th>610</th>\n",
       "      <td>LP002979</td>\n",
       "      <td>0</td>\n",
       "      <td>1</td>\n",
       "      <td>4</td>\n",
       "      <td>1</td>\n",
       "      <td>0</td>\n",
       "      <td>4106</td>\n",
       "      <td>0.0</td>\n",
       "      <td>40.0</td>\n",
       "      <td>180.0</td>\n",
       "      <td>1.0</td>\n",
       "      <td>0</td>\n",
       "      <td>1</td>\n",
       "      <td>3.688879</td>\n",
       "      <td>4106.0</td>\n",
       "      <td>8.320205</td>\n",
       "    </tr>\n",
       "    <tr>\n",
       "      <th>611</th>\n",
       "      <td>LP002983</td>\n",
       "      <td>0</td>\n",
       "      <td>1</td>\n",
       "      <td>1</td>\n",
       "      <td>1</td>\n",
       "      <td>0</td>\n",
       "      <td>8072</td>\n",
       "      <td>240.0</td>\n",
       "      <td>253.0</td>\n",
       "      <td>360.0</td>\n",
       "      <td>1.0</td>\n",
       "      <td>2</td>\n",
       "      <td>1</td>\n",
       "      <td>5.533389</td>\n",
       "      <td>8312.0</td>\n",
       "      <td>9.025456</td>\n",
       "    </tr>\n",
       "    <tr>\n",
       "      <th>612</th>\n",
       "      <td>LP002984</td>\n",
       "      <td>0</td>\n",
       "      <td>1</td>\n",
       "      <td>2</td>\n",
       "      <td>1</td>\n",
       "      <td>0</td>\n",
       "      <td>7583</td>\n",
       "      <td>0.0</td>\n",
       "      <td>187.0</td>\n",
       "      <td>360.0</td>\n",
       "      <td>1.0</td>\n",
       "      <td>2</td>\n",
       "      <td>1</td>\n",
       "      <td>5.231109</td>\n",
       "      <td>7583.0</td>\n",
       "      <td>8.933664</td>\n",
       "    </tr>\n",
       "    <tr>\n",
       "      <th>613</th>\n",
       "      <td>LP002990</td>\n",
       "      <td>1</td>\n",
       "      <td>0</td>\n",
       "      <td>0</td>\n",
       "      <td>1</td>\n",
       "      <td>1</td>\n",
       "      <td>4583</td>\n",
       "      <td>0.0</td>\n",
       "      <td>133.0</td>\n",
       "      <td>360.0</td>\n",
       "      <td>0.0</td>\n",
       "      <td>1</td>\n",
       "      <td>0</td>\n",
       "      <td>4.890349</td>\n",
       "      <td>4583.0</td>\n",
       "      <td>8.430109</td>\n",
       "    </tr>\n",
       "  </tbody>\n",
       "</table>\n",
       "<p>614 rows × 16 columns</p>\n",
       "</div>"
      ],
      "text/plain": [
       "      Loan_ID  Gender  Married  Dependents  Education  Self_Employed  \\\n",
       "0    LP001002       0        0           0          1              0   \n",
       "1    LP001003       0        1           1          1              0   \n",
       "2    LP001005       0        1           0          1              1   \n",
       "3    LP001006       0        1           0          0              0   \n",
       "4    LP001008       0        0           0          1              0   \n",
       "..        ...     ...      ...         ...        ...            ...   \n",
       "609  LP002978       1        0           0          1              0   \n",
       "610  LP002979       0        1           4          1              0   \n",
       "611  LP002983       0        1           1          1              0   \n",
       "612  LP002984       0        1           2          1              0   \n",
       "613  LP002990       1        0           0          1              1   \n",
       "\n",
       "     ApplicantIncome  CoapplicantIncome  LoanAmount  Loan_Amount_Term  \\\n",
       "0               5849                0.0       128.0             360.0   \n",
       "1               4583             1508.0       128.0             360.0   \n",
       "2               3000                0.0        66.0             360.0   \n",
       "3               2583             2358.0       120.0             360.0   \n",
       "4               6000                0.0       141.0             360.0   \n",
       "..               ...                ...         ...               ...   \n",
       "609             2900                0.0        71.0             360.0   \n",
       "610             4106                0.0        40.0             180.0   \n",
       "611             8072              240.0       253.0             360.0   \n",
       "612             7583                0.0       187.0             360.0   \n",
       "613             4583                0.0       133.0             360.0   \n",
       "\n",
       "     Credit_History  Property_Area  Loan_Status  Loan_amount_log  \\\n",
       "0               1.0              2            1         4.852030   \n",
       "1               1.0              0            0         4.852030   \n",
       "2               1.0              2            1         4.189655   \n",
       "3               1.0              2            1         4.787492   \n",
       "4               1.0              2            1         4.948760   \n",
       "..              ...            ...          ...              ...   \n",
       "609             1.0              0            1         4.262680   \n",
       "610             1.0              0            1         3.688879   \n",
       "611             1.0              2            1         5.533389   \n",
       "612             1.0              2            1         5.231109   \n",
       "613             0.0              1            0         4.890349   \n",
       "\n",
       "     Total_income  Total_income_log  \n",
       "0          5849.0          8.674026  \n",
       "1          6091.0          8.714568  \n",
       "2          3000.0          8.006368  \n",
       "3          4941.0          8.505323  \n",
       "4          6000.0          8.699515  \n",
       "..            ...               ...  \n",
       "609        2900.0          7.972466  \n",
       "610        4106.0          8.320205  \n",
       "611        8312.0          9.025456  \n",
       "612        7583.0          8.933664  \n",
       "613        4583.0          8.430109  \n",
       "\n",
       "[614 rows x 16 columns]"
      ]
     },
     "execution_count": 45,
     "metadata": {},
     "output_type": "execute_result"
    }
   ],
   "source": [
    "train_dataset"
   ]
  },
  {
   "cell_type": "code",
   "execution_count": 46,
   "id": "652c9453",
   "metadata": {},
   "outputs": [
    {
     "data": {
      "text/plain": [
       "<AxesSubplot:>"
      ]
     },
     "execution_count": 46,
     "metadata": {},
     "output_type": "execute_result"
    },
    {
     "data": {
      "image/png": "[encoded data removed]",
      "text/plain": [
       "<Figure size 720x720 with 2 Axes>"
      ]
     },
     "metadata": {
      "needs_background": "light"
     },
     "output_type": "display_data"
    }
   ],
   "source": [
    "corr = train_dataset.corr()\n",
    "fig, ax = plt.subplots(figsize=(10, 10))\n",
    "\n",
    "sns.heatmap(corr, annot=True, cmap='BuPu')"
   ]
  },
  {
   "cell_type": "code",
   "execution_count": 47,
   "id": "a7dafeb2",
   "metadata": {},
   "outputs": [],
   "source": [
    "# The X and Y will contain features and labels of the data"
   ]
  },
  {
   "cell_type": "code",
   "execution_count": 48,
   "id": "6bc64646",
   "metadata": {},
   "outputs": [],
   "source": [
    "Y = train_dataset['Loan_Status']\n",
    "X = train_dataset.drop(['Loan_Status', 'ApplicantIncome', 'CoapplicantIncome', 'LoanAmount', 'Total_income', 'Loan_ID'], axis=1)"
   ]
  },
  {
   "cell_type": "code",
   "execution_count": 49,
   "id": "53011200",
   "metadata": {},
   "outputs": [
    {
     "data": {
      "text/html": [
       "<div>\n",
       "<style scoped>\n",
       "    .dataframe tbody tr th:only-of-type {\n",
       "        vertical-align: middle;\n",
       "    }\n",
       "\n",
       "    .dataframe tbody tr th {\n",
       "        vertical-align: top;\n",
       "    }\n",
       "\n",
       "    .dataframe thead th {\n",
       "        text-align: right;\n",
       "    }\n",
       "</style>\n",
       "<table border=\"1\" class=\"dataframe\">\n",
       "  <thead>\n",
       "    <tr style=\"text-align: right;\">\n",
       "      <th></th>\n",
       "      <th>Gender</th>\n",
       "      <th>Married</th>\n",
       "      <th>Dependents</th>\n",
       "      <th>Education</th>\n",
       "      <th>Self_Employed</th>\n",
       "      <th>Loan_Amount_Term</th>\n",
       "      <th>Credit_History</th>\n",
       "      <th>Property_Area</th>\n",
       "      <th>Loan_amount_log</th>\n",
       "      <th>Total_income_log</th>\n",
       "    </tr>\n",
       "  </thead>\n",
       "  <tbody>\n",
       "    <tr>\n",
       "      <th>0</th>\n",
       "      <td>0</td>\n",
       "      <td>0</td>\n",
       "      <td>0</td>\n",
       "      <td>1</td>\n",
       "      <td>0</td>\n",
       "      <td>360.0</td>\n",
       "      <td>1.0</td>\n",
       "      <td>2</td>\n",
       "      <td>4.852030</td>\n",
       "      <td>8.674026</td>\n",
       "    </tr>\n",
       "    <tr>\n",
       "      <th>1</th>\n",
       "      <td>0</td>\n",
       "      <td>1</td>\n",
       "      <td>1</td>\n",
       "      <td>1</td>\n",
       "      <td>0</td>\n",
       "      <td>360.0</td>\n",
       "      <td>1.0</td>\n",
       "      <td>0</td>\n",
       "      <td>4.852030</td>\n",
       "      <td>8.714568</td>\n",
       "    </tr>\n",
       "    <tr>\n",
       "      <th>2</th>\n",
       "      <td>0</td>\n",
       "      <td>1</td>\n",
       "      <td>0</td>\n",
       "      <td>1</td>\n",
       "      <td>1</td>\n",
       "      <td>360.0</td>\n",
       "      <td>1.0</td>\n",
       "      <td>2</td>\n",
       "      <td>4.189655</td>\n",
       "      <td>8.006368</td>\n",
       "    </tr>\n",
       "    <tr>\n",
       "      <th>3</th>\n",
       "      <td>0</td>\n",
       "      <td>1</td>\n",
       "      <td>0</td>\n",
       "      <td>0</td>\n",
       "      <td>0</td>\n",
       "      <td>360.0</td>\n",
       "      <td>1.0</td>\n",
       "      <td>2</td>\n",
       "      <td>4.787492</td>\n",
       "      <td>8.505323</td>\n",
       "    </tr>\n",
       "    <tr>\n",
       "      <th>4</th>\n",
       "      <td>0</td>\n",
       "      <td>0</td>\n",
       "      <td>0</td>\n",
       "      <td>1</td>\n",
       "      <td>0</td>\n",
       "      <td>360.0</td>\n",
       "      <td>1.0</td>\n",
       "      <td>2</td>\n",
       "      <td>4.948760</td>\n",
       "      <td>8.699515</td>\n",
       "    </tr>\n",
       "    <tr>\n",
       "      <th>...</th>\n",
       "      <td>...</td>\n",
       "      <td>...</td>\n",
       "      <td>...</td>\n",
       "      <td>...</td>\n",
       "      <td>...</td>\n",
       "      <td>...</td>\n",
       "      <td>...</td>\n",
       "      <td>...</td>\n",
       "      <td>...</td>\n",
       "      <td>...</td>\n",
       "    </tr>\n",
       "    <tr>\n",
       "      <th>609</th>\n",
       "      <td>1</td>\n",
       "      <td>0</td>\n",
       "      <td>0</td>\n",
       "      <td>1</td>\n",
       "      <td>0</td>\n",
       "      <td>360.0</td>\n",
       "      <td>1.0</td>\n",
       "      <td>0</td>\n",
       "      <td>4.262680</td>\n",
       "      <td>7.972466</td>\n",
       "    </tr>\n",
       "    <tr>\n",
       "      <th>610</th>\n",
       "      <td>0</td>\n",
       "      <td>1</td>\n",
       "      <td>4</td>\n",
       "      <td>1</td>\n",
       "      <td>0</td>\n",
       "      <td>180.0</td>\n",
       "      <td>1.0</td>\n",
       "      <td>0</td>\n",
       "      <td>3.688879</td>\n",
       "      <td>8.320205</td>\n",
       "    </tr>\n",
       "    <tr>\n",
       "      <th>611</th>\n",
       "      <td>0</td>\n",
       "      <td>1</td>\n",
       "      <td>1</td>\n",
       "      <td>1</td>\n",
       "      <td>0</td>\n",
       "      <td>360.0</td>\n",
       "      <td>1.0</td>\n",
       "      <td>2</td>\n",
       "      <td>5.533389</td>\n",
       "      <td>9.025456</td>\n",
       "    </tr>\n",
       "    <tr>\n",
       "      <th>612</th>\n",
       "      <td>0</td>\n",
       "      <td>1</td>\n",
       "      <td>2</td>\n",
       "      <td>1</td>\n",
       "      <td>0</td>\n",
       "      <td>360.0</td>\n",
       "      <td>1.0</td>\n",
       "      <td>2</td>\n",
       "      <td>5.231109</td>\n",
       "      <td>8.933664</td>\n",
       "    </tr>\n",
       "    <tr>\n",
       "      <th>613</th>\n",
       "      <td>1</td>\n",
       "      <td>0</td>\n",
       "      <td>0</td>\n",
       "      <td>1</td>\n",
       "      <td>1</td>\n",
       "      <td>360.0</td>\n",
       "      <td>0.0</td>\n",
       "      <td>1</td>\n",
       "      <td>4.890349</td>\n",
       "      <td>8.430109</td>\n",
       "    </tr>\n",
       "  </tbody>\n",
       "</table>\n",
       "<p>614 rows × 10 columns</p>\n",
       "</div>"
      ],
      "text/plain": [
       "     Gender  Married  Dependents  Education  Self_Employed  Loan_Amount_Term  \\\n",
       "0         0        0           0          1              0             360.0   \n",
       "1         0        1           1          1              0             360.0   \n",
       "2         0        1           0          1              1             360.0   \n",
       "3         0        1           0          0              0             360.0   \n",
       "4         0        0           0          1              0             360.0   \n",
       "..      ...      ...         ...        ...            ...               ...   \n",
       "609       1        0           0          1              0             360.0   \n",
       "610       0        1           4          1              0             180.0   \n",
       "611       0        1           1          1              0             360.0   \n",
       "612       0        1           2          1              0             360.0   \n",
       "613       1        0           0          1              1             360.0   \n",
       "\n",
       "     Credit_History  Property_Area  Loan_amount_log  Total_income_log  \n",
       "0               1.0              2         4.852030          8.674026  \n",
       "1               1.0              0         4.852030          8.714568  \n",
       "2               1.0              2         4.189655          8.006368  \n",
       "3               1.0              2         4.787492          8.505323  \n",
       "4               1.0              2         4.948760          8.699515  \n",
       "..              ...            ...              ...               ...  \n",
       "609             1.0              0         4.262680          7.972466  \n",
       "610             1.0              0         3.688879          8.320205  \n",
       "611             1.0              2         5.533389          9.025456  \n",
       "612             1.0              2         5.231109          8.933664  \n",
       "613             0.0              1         4.890349          8.430109  \n",
       "\n",
       "[614 rows x 10 columns]"
      ]
     },
     "execution_count": 49,
     "metadata": {},
     "output_type": "execute_result"
    }
   ],
   "source": [
    "X"
   ]
  },
  {
   "cell_type": "markdown",
   "id": "68edcdfd",
   "metadata": {},
   "source": [
    "# Now we split the dataset and train it on various models"
   ]
  },
  {
   "cell_type": "code",
   "execution_count": 50,
   "id": "c8657b2e",
   "metadata": {},
   "outputs": [],
   "source": [
    "from sklearn.model_selection import cross_val_score\n",
    "from sklearn.model_selection import train_test_split"
   ]
  },
  {
   "cell_type": "code",
   "execution_count": 51,
   "id": "48921c96",
   "metadata": {},
   "outputs": [],
   "source": [
    "def classify(model , X, Y):\n",
    "    X_train, X_valid, y_train, y_valid = train_test_split(X, Y, test_size=0.1, random_state=0)\n",
    "    model.fit(X_train, y_train)\n",
    "    print('Model Accuracy = {}'.format(model.score(X_valid, y_valid) * 100))\n",
    "    cross_score = cross_val_score(model, X, Y, cv=5)\n",
    "    print(\"Cross Validation score is :\", np.mean(cross_score) * 100)"
   ]
  },
  {
   "cell_type": "code",
   "execution_count": null,
   "id": "10b524e6",
   "metadata": {},
   "outputs": [],
   "source": []
  },
  {
   "cell_type": "markdown",
   "id": "ffc23680",
   "metadata": {},
   "source": [
    "# First, Logistic Regression"
   ]
  },
  {
   "cell_type": "code",
   "execution_count": 52,
   "id": "16880f79",
   "metadata": {
    "scrolled": true
   },
   "outputs": [
    {
     "name": "stdout",
     "output_type": "stream",
     "text": [
      "Model Accuracy = 87.09677419354838\n",
      "Cross Validation score is : 80.9462881514061\n"
     ]
    },
    {
     "name": "stderr",
     "output_type": "stream",
     "text": [
      "C:\\Users\\sidhant\\anaconda3\\envs\\tf_2.4\\lib\\site-packages\\sklearn\\linear_model\\_logistic.py:763: ConvergenceWarning: lbfgs failed to converge (status=1):\n",
      "STOP: TOTAL NO. of ITERATIONS REACHED LIMIT.\n",
      "\n",
      "Increase the number of iterations (max_iter) or scale the data as shown in:\n",
      "    https://scikit-learn.org/stable/modules/preprocessing.html\n",
      "Please also refer to the documentation for alternative solver options:\n",
      "    https://scikit-learn.org/stable/modules/linear_model.html#logistic-regression\n",
      "  n_iter_i = _check_optimize_result(\n",
      "C:\\Users\\sidhant\\anaconda3\\envs\\tf_2.4\\lib\\site-packages\\sklearn\\linear_model\\_logistic.py:763: ConvergenceWarning: lbfgs failed to converge (status=1):\n",
      "STOP: TOTAL NO. of ITERATIONS REACHED LIMIT.\n",
      "\n",
      "Increase the number of iterations (max_iter) or scale the data as shown in:\n",
      "    https://scikit-learn.org/stable/modules/preprocessing.html\n",
      "Please also refer to the documentation for alternative solver options:\n",
      "    https://scikit-learn.org/stable/modules/linear_model.html#logistic-regression\n",
      "  n_iter_i = _check_optimize_result(\n",
      "C:\\Users\\sidhant\\anaconda3\\envs\\tf_2.4\\lib\\site-packages\\sklearn\\linear_model\\_logistic.py:763: ConvergenceWarning: lbfgs failed to converge (status=1):\n",
      "STOP: TOTAL NO. of ITERATIONS REACHED LIMIT.\n",
      "\n",
      "Increase the number of iterations (max_iter) or scale the data as shown in:\n",
      "    https://scikit-learn.org/stable/modules/preprocessing.html\n",
      "Please also refer to the documentation for alternative solver options:\n",
      "    https://scikit-learn.org/stable/modules/linear_model.html#logistic-regression\n",
      "  n_iter_i = _check_optimize_result(\n"
     ]
    }
   ],
   "source": [
    "from sklearn.linear_model import LogisticRegression\n",
    "classify(LogisticRegression(), X, Y)"
   ]
  },
  {
   "cell_type": "code",
   "execution_count": 53,
   "id": "28958758",
   "metadata": {},
   "outputs": [],
   "source": [
    "from sklearn.model_selection import GridSearchCV"
   ]
  },
  {
   "cell_type": "code",
   "execution_count": 54,
   "id": "c50355a0",
   "metadata": {},
   "outputs": [],
   "source": [
    "param_dict ={\n",
    "    'solver' :['newton-cg', 'lbfgs', 'liblinear', 'sag', 'saga'],\n",
    "    'penalty' : ['none', 'l1', 'l2', 'elasticnet'],\n",
    "    'C' : [100, 10, 1.0, 0.1, 0.01],\n",
    "    'multi_class':['auto', 'ovr', 'multinomial']\n",
    "}"
   ]
  },
  {
   "cell_type": "code",
   "execution_count": 55,
   "id": "14b9ee57",
   "metadata": {},
   "outputs": [
    {
     "name": "stdout",
     "output_type": "stream",
     "text": [
      "Fitting 3 folds for each of 300 candidates, totalling 900 fits\n",
      "{'C': 1.0, 'multi_class': 'multinomial', 'penalty': 'l2', 'solver': 'newton-cg'}\n",
      "LogisticRegression(multi_class='multinomial', solver='newton-cg')\n",
      "0.8111190817790531\n"
     ]
    },
    {
     "name": "stderr",
     "output_type": "stream",
     "text": [
      "C:\\Users\\sidhant\\anaconda3\\envs\\tf_2.4\\lib\\site-packages\\sklearn\\model_selection\\_search.py:922: UserWarning: One or more of the test scores are non-finite: [0.80948509 0.80785111        nan 0.68729476 0.68729476        nan\n",
      "        nan 0.80948509        nan 0.68729476 0.80948509 0.80785111\n",
      " 0.80948509 0.68729476 0.68729476        nan        nan        nan\n",
      "        nan        nan 0.80948509 0.80785111        nan 0.68729476\n",
      " 0.68729476        nan        nan 0.80948509        nan 0.68729476\n",
      " 0.80948509 0.80785111 0.80948509 0.68729476 0.68729476        nan\n",
      "        nan        nan        nan        nan 0.80948509 0.80785111\n",
      "        nan 0.68729476 0.68729476        nan        nan        nan\n",
      "        nan 0.68729476 0.80948509 0.80785111        nan 0.68729476\n",
      " 0.68729476        nan        nan        nan        nan        nan\n",
      " 0.80948509 0.80785111        nan 0.68729476 0.68729476        nan\n",
      "        nan 0.80948509        nan 0.68729476 0.80948509 0.80785111\n",
      " 0.80948509 0.68729476 0.68729476        nan        nan        nan\n",
      "        nan        nan 0.80948509 0.80785111        nan 0.68729476\n",
      " 0.68729476        nan        nan 0.80948509        nan 0.68729476\n",
      " 0.80948509 0.80785111 0.80948509 0.68729476 0.68729476        nan\n",
      "        nan        nan        nan        nan 0.80948509 0.80785111\n",
      "        nan 0.68729476 0.68729476        nan        nan        nan\n",
      "        nan 0.68729476 0.80948509 0.80785111        nan 0.68729476\n",
      " 0.68729476        nan        nan        nan        nan        nan\n",
      " 0.80948509 0.80785111        nan 0.68729476 0.68729476        nan\n",
      "        nan 0.80948509        nan 0.68729476 0.80948509 0.80948509\n",
      " 0.80948509 0.68729476 0.68729476        nan        nan        nan\n",
      "        nan        nan 0.80948509 0.80785111        nan 0.68729476\n",
      " 0.68729476        nan        nan 0.80948509        nan 0.68729476\n",
      " 0.80948509 0.80948509 0.80948509 0.68729476 0.68729476        nan\n",
      "        nan        nan        nan        nan 0.80948509 0.80785111\n",
      "        nan 0.68729476 0.68729476        nan        nan        nan\n",
      "        nan 0.68729476 0.81111908 0.80785111        nan 0.68729476\n",
      " 0.68729476        nan        nan        nan        nan        nan\n",
      " 0.80948509 0.80785111        nan 0.68729476 0.68729476        nan\n",
      "        nan 0.80948509        nan 0.68729476 0.80948509 0.80948509\n",
      " 0.80948509 0.68729476 0.68729476        nan        nan        nan\n",
      "        nan        nan 0.80948509 0.80785111        nan 0.68729476\n",
      " 0.68729476        nan        nan 0.80948509        nan 0.68729476\n",
      " 0.80948509 0.80948509 0.80948509 0.68729476 0.68729476        nan\n",
      "        nan        nan        nan        nan 0.80948509 0.80785111\n",
      "        nan 0.68729476 0.68729476        nan        nan        nan\n",
      "        nan 0.68729476 0.80948509 0.80948509        nan 0.68729476\n",
      " 0.68729476        nan        nan        nan        nan        nan\n",
      " 0.80948509 0.80785111        nan 0.68729476 0.68729476        nan\n",
      "        nan 0.68729476        nan 0.68729476 0.68729476 0.68729476\n",
      " 0.68729476 0.68729476 0.68729476        nan        nan        nan\n",
      "        nan        nan 0.80948509 0.80785111        nan 0.68729476\n",
      " 0.68729476        nan        nan 0.68729476        nan 0.68729476\n",
      " 0.68729476 0.68729476 0.68729476 0.68729476 0.68729476        nan\n",
      "        nan        nan        nan        nan 0.80948509 0.80785111\n",
      "        nan 0.68729476 0.68729476        nan        nan        nan\n",
      "        nan 0.68729476 0.68892077 0.68892077        nan 0.68729476\n",
      " 0.68729476        nan        nan        nan        nan        nan]\n",
      "  warnings.warn(\n"
     ]
    }
   ],
   "source": [
    "classifier_tuning = LogisticRegression()\n",
    "grid_search = GridSearchCV(classifier_tuning, param_dict, cv=3, verbose=2,n_jobs=6, scoring='accuracy')\n",
    "grid_search.fit(X, Y)\n",
    "print(grid_search.best_params_)\n",
    "print(grid_search.best_estimator_)\n",
    "print(grid_search.best_score_)"
   ]
  },
  {
   "cell_type": "code",
   "execution_count": 85,
   "id": "99be9be0",
   "metadata": {},
   "outputs": [
    {
     "name": "stdout",
     "output_type": "stream",
     "text": [
      "Model Accuracy = 87.09677419354838\n",
      "Cross Validation score is : 80.9462881514061\n"
     ]
    }
   ],
   "source": [
    "classify(LogisticRegression(multi_class='multinomial', solver='newton-cg'),\n",
    "         X, Y)"
   ]
  },
  {
   "cell_type": "code",
   "execution_count": 58,
   "id": "e6fba7dd",
   "metadata": {},
   "outputs": [],
   "source": [
    "lr_model = LogisticRegression(multi_class='multinomial', solver='newton-cg')\n",
    "lr_model.fit(X, Y)\n",
    "filename = 'lr_model.sav'\n",
    "pickle.dump(lr_model, open(filename, 'wb'))"
   ]
  },
  {
   "cell_type": "markdown",
   "id": "25abdf08",
   "metadata": {},
   "source": [
    "# Second, Decision Tree Classifier"
   ]
  },
  {
   "cell_type": "code",
   "execution_count": 59,
   "id": "99837579",
   "metadata": {},
   "outputs": [
    {
     "name": "stdout",
     "output_type": "stream",
     "text": [
      "Model Accuracy = 70.96774193548387\n",
      "Cross Validation score is : 68.40197254431561\n"
     ]
    }
   ],
   "source": [
    "from sklearn.tree import DecisionTreeClassifier\n",
    "classify(DecisionTreeClassifier(), X, Y)"
   ]
  },
  {
   "cell_type": "code",
   "execution_count": 60,
   "id": "e55e5ce6",
   "metadata": {},
   "outputs": [],
   "source": [
    "param_dict ={\n",
    "    'max_depth': [2, 3, 5, 10, 20],\n",
    "    'min_samples_leaf': [5, 10, 20, 50, 100],\n",
    "    'criterion': [\"gini\", \"entropy\"],\n",
    "    'splitter':['best', 'random'],\n",
    "    'min_samples_split':[1, 2, 4, 5, 7, 9, 11], \n",
    "    'max_features': ['int', 'auto', 'sqrt', 'log2']\n",
    "}"
   ]
  },
  {
   "cell_type": "code",
   "execution_count": 61,
   "id": "95979885",
   "metadata": {},
   "outputs": [
    {
     "name": "stdout",
     "output_type": "stream",
     "text": [
      "Fitting 3 folds for each of 2800 candidates, totalling 8400 fits\n",
      "{'criterion': 'gini', 'max_depth': 3, 'max_features': 'auto', 'min_samples_leaf': 10, 'min_samples_split': 5, 'splitter': 'best'}\n",
      "DecisionTreeClassifier(max_depth=3, max_features='auto', min_samples_leaf=10,\n",
      "                       min_samples_split=5)\n",
      "0.8127371273712738\n"
     ]
    },
    {
     "name": "stderr",
     "output_type": "stream",
     "text": [
      "C:\\Users\\sidhant\\anaconda3\\envs\\tf_2.4\\lib\\site-packages\\sklearn\\model_selection\\_search.py:922: UserWarning: One or more of the test scores are non-finite: [       nan        nan        nan ... 0.68729476 0.68729476 0.68729476]\n",
      "  warnings.warn(\n"
     ]
    }
   ],
   "source": [
    "classifier_tuning = DecisionTreeClassifier()\n",
    "grid_search = GridSearchCV(classifier_tuning, param_dict, cv=3, verbose=2,n_jobs=6, scoring='accuracy')\n",
    "grid_search.fit(X, Y)\n",
    "print(grid_search.best_params_)\n",
    "print(grid_search.best_estimator_)\n",
    "print(grid_search.best_score_)"
   ]
  },
  {
   "cell_type": "code",
   "execution_count": 62,
   "id": "d3a5535d",
   "metadata": {},
   "outputs": [
    {
     "name": "stdout",
     "output_type": "stream",
     "text": [
      "Model Accuracy = 87.09677419354838\n",
      "Cross Validation score is : 77.35039317606291\n"
     ]
    }
   ],
   "source": [
    "classify(DecisionTreeClassifier(max_depth=2, max_features='sqrt', min_samples_leaf=20, \n",
    "                                min_samples_split=11), X, Y)"
   ]
  },
  {
   "cell_type": "code",
   "execution_count": 63,
   "id": "949130b6",
   "metadata": {},
   "outputs": [],
   "source": [
    "dt_model = DecisionTreeClassifier(max_depth=2, max_features='sqrt', min_samples_leaf=20, min_samples_split=11)\n",
    "dt_model.fit(X, Y)\n",
    "filename = 'dt_model.sav'\n",
    "pickle.dump(dt_model, open(filename, 'wb'))"
   ]
  },
  {
   "cell_type": "markdown",
   "id": "afd56ae8",
   "metadata": {},
   "source": [
    "# Third, Random Forest Classifier"
   ]
  },
  {
   "cell_type": "code",
   "execution_count": 64,
   "id": "a8ca3c34",
   "metadata": {},
   "outputs": [
    {
     "name": "stdout",
     "output_type": "stream",
     "text": [
      "Model Accuracy = 80.64516129032258\n",
      "Cross Validation score is : 77.68759163001467\n"
     ]
    }
   ],
   "source": [
    "from sklearn.ensemble import RandomForestClassifier\n",
    "classify(RandomForestClassifier(), X, Y)"
   ]
  },
  {
   "cell_type": "code",
   "execution_count": 65,
   "id": "e9b895cb",
   "metadata": {},
   "outputs": [],
   "source": [
    "param_dict = {\n",
    "    'bootstrap': [True, False],\n",
    "    'max_depth': [5, 10, 20, 40, 60, 80, 90],\n",
    "    'max_features': ['auto', 'sqrt', 'log2', 'int'],\n",
    "    'min_samples_leaf': [1, 2, 3, 4, 5, 7],\n",
    "    'min_samples_split': [2, 5, 8, 15],\n",
    "    'n_estimators': [50, 100, 200, 300, 500], \n",
    "    'criterion': ['gini', 'entropy']\n",
    "}"
   ]
  },
  {
   "cell_type": "code",
   "execution_count": 66,
   "id": "8a6da831",
   "metadata": {},
   "outputs": [
    {
     "name": "stdout",
     "output_type": "stream",
     "text": [
      "Fitting 3 folds for each of 13440 candidates, totalling 40320 fits\n",
      "{'bootstrap': True, 'criterion': 'entropy', 'max_depth': 10, 'max_features': 'auto', 'min_samples_leaf': 3, 'min_samples_split': 5, 'n_estimators': 50}\n",
      "RandomForestClassifier(criterion='entropy', max_depth=10, min_samples_leaf=3,\n",
      "                       min_samples_split=5, n_estimators=50)\n",
      "0.8159971305595409\n"
     ]
    },
    {
     "name": "stderr",
     "output_type": "stream",
     "text": [
      "C:\\Users\\sidhant\\anaconda3\\envs\\tf_2.4\\lib\\site-packages\\sklearn\\model_selection\\_search.py:922: UserWarning: One or more of the test scores are non-finite: [0.80460705 0.80296509 0.8045911  ...        nan        nan        nan]\n",
      "  warnings.warn(\n"
     ]
    }
   ],
   "source": [
    "classifier_tuning = RandomForestClassifier()\n",
    "grid_search = GridSearchCV(classifier_tuning, param_dict, cv=3, verbose=2,n_jobs=6, scoring='accuracy')\n",
    "grid_search.fit(X, Y)\n",
    "print(grid_search.best_params_)\n",
    "print(grid_search.best_estimator_)\n",
    "print(grid_search.best_score_)"
   ]
  },
  {
   "cell_type": "code",
   "execution_count": 67,
   "id": "a6d962f5",
   "metadata": {},
   "outputs": [
    {
     "name": "stdout",
     "output_type": "stream",
     "text": [
      "Model Accuracy = 85.48387096774194\n",
      "Cross Validation score is : 80.13194722111156\n"
     ]
    }
   ],
   "source": [
    "classify( RandomForestClassifier(criterion='entropy', max_depth=10, min_samples_leaf=3, min_samples_split=5, n_estimators=50), X, Y)"
   ]
  },
  {
   "cell_type": "code",
   "execution_count": 68,
   "id": "3d40010e",
   "metadata": {},
   "outputs": [],
   "source": [
    "rf_model = RandomForestClassifier(criterion='entropy', max_depth=10, min_samples_leaf=3, min_samples_split=5, n_estimators=50)\n",
    "rf_model.fit(X, Y)\n",
    "filename = 'rf_model.sav'\n",
    "pickle.dump(rf_model, open(filename, 'wb'))"
   ]
  },
  {
   "cell_type": "markdown",
   "id": "0ac831e5",
   "metadata": {},
   "source": [
    "# Fourth, KNN classifier"
   ]
  },
  {
   "cell_type": "code",
   "execution_count": 69,
   "id": "ec86d0d0",
   "metadata": {},
   "outputs": [
    {
     "name": "stdout",
     "output_type": "stream",
     "text": [
      "Model Accuracy = 79.03225806451613\n",
      "Cross Validation score is : 72.96014927362388\n"
     ]
    }
   ],
   "source": [
    "from sklearn.neighbors import KNeighborsClassifier\n",
    "classify( KNeighborsClassifier(), X, Y)"
   ]
  },
  {
   "cell_type": "code",
   "execution_count": 71,
   "id": "aade3813",
   "metadata": {},
   "outputs": [],
   "source": [
    "param_dict = {\n",
    "    'n_neighbors': [5, 7, 10, 15, 20, 25, 30, 35],\n",
    "    'weights':['uniform', 'distance'],\n",
    "    'algorithm':['auto', 'ball_tree', 'kd_tree', 'brute'],\n",
    "    'p':[1, 2],\n",
    "    'metric':['minkowski', 'euclidean', 'manhattan']\n",
    "}"
   ]
  },
  {
   "cell_type": "code",
   "execution_count": 72,
   "id": "4ca59add",
   "metadata": {},
   "outputs": [
    {
     "name": "stdout",
     "output_type": "stream",
     "text": [
      "Fitting 3 folds for each of 384 candidates, totalling 1152 fits\n",
      "{'algorithm': 'auto', 'metric': 'minkowski', 'n_neighbors': 7, 'p': 1, 'weights': 'distance'}\n",
      "KNeighborsClassifier(n_neighbors=7, p=1, weights='distance')\n",
      "0.7508130081300813\n"
     ]
    }
   ],
   "source": [
    "classifier_tuning = KNeighborsClassifier()\n",
    "grid_search = GridSearchCV(classifier_tuning, param_dict, cv=3, verbose=2,n_jobs=6, scoring='accuracy')\n",
    "grid_search.fit(X, Y)\n",
    "print(grid_search.best_params_)\n",
    "print(grid_search.best_estimator_)\n",
    "print(grid_search.best_score_)"
   ]
  },
  {
   "cell_type": "code",
   "execution_count": 73,
   "id": "facbc6a2",
   "metadata": {},
   "outputs": [
    {
     "name": "stdout",
     "output_type": "stream",
     "text": [
      "Model Accuracy = 79.03225806451613\n",
      "Cross Validation score is : 73.93842463014794\n"
     ]
    }
   ],
   "source": [
    "classify(KNeighborsClassifier(n_neighbors=7, p=1, weights='distance'), X, Y)"
   ]
  },
  {
   "cell_type": "code",
   "execution_count": 74,
   "id": "392c1f78",
   "metadata": {},
   "outputs": [],
   "source": [
    "knn_model = DecisionTreeClassifier(max_depth=2, max_features='sqrt', min_samples_leaf=20, min_samples_split=11)\n",
    "knn_model.fit(X, Y)\n",
    "filename = 'knn_model.sav'\n",
    "pickle.dump(knn_model, open(filename, 'wb'))"
   ]
  },
  {
   "cell_type": "markdown",
   "id": "eb978d87",
   "metadata": {},
   "source": [
    "# Fifth, Naive Bayes"
   ]
  },
  {
   "cell_type": "code",
   "execution_count": 81,
   "id": "9cda1714",
   "metadata": {},
   "outputs": [
    {
     "name": "stdout",
     "output_type": "stream",
     "text": [
      "Model Accuracy = 87.09677419354838\n",
      "Cross Validation score is : 80.45981607357056\n"
     ]
    }
   ],
   "source": [
    "from sklearn.naive_bayes import GaussianNB\n",
    "classify(GaussianNB(), X, Y)"
   ]
  },
  {
   "cell_type": "code",
   "execution_count": 88,
   "id": "fdd5f601",
   "metadata": {},
   "outputs": [],
   "source": [
    "param_dict = {'var_smoothing': np.logspace(0,-9, num=100)}"
   ]
  },
  {
   "cell_type": "code",
   "execution_count": 89,
   "id": "14291e8c",
   "metadata": {},
   "outputs": [
    {
     "name": "stdout",
     "output_type": "stream",
     "text": [
      "Fitting 3 folds for each of 100 candidates, totalling 300 fits\n",
      "{'var_smoothing': 2.310129700083158e-05}\n",
      "GaussianNB(var_smoothing=2.310129700083158e-05)\n",
      "0.8062410329985653\n"
     ]
    }
   ],
   "source": [
    "classifier_tuning = GaussianNB()\n",
    "grid_search = GridSearchCV(classifier_tuning, param_dict, cv=3, verbose=2,n_jobs=6, scoring='accuracy')\n",
    "grid_search.fit(X, Y)\n",
    "print(grid_search.best_params_)\n",
    "print(grid_search.best_estimator_)\n",
    "print(grid_search.best_score_)"
   ]
  },
  {
   "cell_type": "code",
   "execution_count": 90,
   "id": "0dbbe5cf",
   "metadata": {},
   "outputs": [
    {
     "name": "stdout",
     "output_type": "stream",
     "text": [
      "Model Accuracy = 87.09677419354838\n",
      "Cross Validation score is : 80.29588164734108\n"
     ]
    }
   ],
   "source": [
    "classify(GaussianNB(var_smoothing=2.310129700083158e-05) , X, Y)"
   ]
  },
  {
   "cell_type": "code",
   "execution_count": 91,
   "id": "56df2502",
   "metadata": {},
   "outputs": [],
   "source": [
    "nb_model = GaussianNB(var_smoothing=2.310129700083158e-05)\n",
    "nb_model.fit(X, Y)\n",
    "filename = 'nb_model.sav'\n",
    "pickle.dump(nb_model, open(filename, 'wb'))"
   ]
  },
  {
   "cell_type": "markdown",
   "id": "c142c311",
   "metadata": {},
   "source": [
    "# Now we preprocess the Test Dataset"
   ]
  },
  {
   "cell_type": "code",
   "execution_count": 92,
   "id": "f9caaf62",
   "metadata": {},
   "outputs": [
    {
     "data": {
      "text/html": [
       "<div>\n",
       "<style scoped>\n",
       "    .dataframe tbody tr th:only-of-type {\n",
       "        vertical-align: middle;\n",
       "    }\n",
       "\n",
       "    .dataframe tbody tr th {\n",
       "        vertical-align: top;\n",
       "    }\n",
       "\n",
       "    .dataframe thead th {\n",
       "        text-align: right;\n",
       "    }\n",
       "</style>\n",
       "<table border=\"1\" class=\"dataframe\">\n",
       "  <thead>\n",
       "    <tr style=\"text-align: right;\">\n",
       "      <th></th>\n",
       "      <th>Loan_ID</th>\n",
       "      <th>Gender</th>\n",
       "      <th>Married</th>\n",
       "      <th>Dependents</th>\n",
       "      <th>Education</th>\n",
       "      <th>Self_Employed</th>\n",
       "      <th>ApplicantIncome</th>\n",
       "      <th>CoapplicantIncome</th>\n",
       "      <th>LoanAmount</th>\n",
       "      <th>Loan_Amount_Term</th>\n",
       "      <th>Credit_History</th>\n",
       "      <th>Property_Area</th>\n",
       "    </tr>\n",
       "  </thead>\n",
       "  <tbody>\n",
       "    <tr>\n",
       "      <th>0</th>\n",
       "      <td>LP001015</td>\n",
       "      <td>Male</td>\n",
       "      <td>Yes</td>\n",
       "      <td>0</td>\n",
       "      <td>Graduate</td>\n",
       "      <td>No</td>\n",
       "      <td>5720</td>\n",
       "      <td>0</td>\n",
       "      <td>110.0</td>\n",
       "      <td>360.0</td>\n",
       "      <td>1.0</td>\n",
       "      <td>Urban</td>\n",
       "    </tr>\n",
       "    <tr>\n",
       "      <th>1</th>\n",
       "      <td>LP001022</td>\n",
       "      <td>Male</td>\n",
       "      <td>Yes</td>\n",
       "      <td>1</td>\n",
       "      <td>Graduate</td>\n",
       "      <td>No</td>\n",
       "      <td>3076</td>\n",
       "      <td>1500</td>\n",
       "      <td>126.0</td>\n",
       "      <td>360.0</td>\n",
       "      <td>1.0</td>\n",
       "      <td>Urban</td>\n",
       "    </tr>\n",
       "    <tr>\n",
       "      <th>2</th>\n",
       "      <td>LP001031</td>\n",
       "      <td>Male</td>\n",
       "      <td>Yes</td>\n",
       "      <td>2</td>\n",
       "      <td>Graduate</td>\n",
       "      <td>No</td>\n",
       "      <td>5000</td>\n",
       "      <td>1800</td>\n",
       "      <td>208.0</td>\n",
       "      <td>360.0</td>\n",
       "      <td>1.0</td>\n",
       "      <td>Urban</td>\n",
       "    </tr>\n",
       "    <tr>\n",
       "      <th>3</th>\n",
       "      <td>LP001035</td>\n",
       "      <td>Male</td>\n",
       "      <td>Yes</td>\n",
       "      <td>2</td>\n",
       "      <td>Graduate</td>\n",
       "      <td>No</td>\n",
       "      <td>2340</td>\n",
       "      <td>2546</td>\n",
       "      <td>100.0</td>\n",
       "      <td>360.0</td>\n",
       "      <td>NaN</td>\n",
       "      <td>Urban</td>\n",
       "    </tr>\n",
       "    <tr>\n",
       "      <th>4</th>\n",
       "      <td>LP001051</td>\n",
       "      <td>Male</td>\n",
       "      <td>No</td>\n",
       "      <td>0</td>\n",
       "      <td>Not Graduate</td>\n",
       "      <td>No</td>\n",
       "      <td>3276</td>\n",
       "      <td>0</td>\n",
       "      <td>78.0</td>\n",
       "      <td>360.0</td>\n",
       "      <td>1.0</td>\n",
       "      <td>Urban</td>\n",
       "    </tr>\n",
       "    <tr>\n",
       "      <th>5</th>\n",
       "      <td>LP001054</td>\n",
       "      <td>Male</td>\n",
       "      <td>Yes</td>\n",
       "      <td>0</td>\n",
       "      <td>Not Graduate</td>\n",
       "      <td>Yes</td>\n",
       "      <td>2165</td>\n",
       "      <td>3422</td>\n",
       "      <td>152.0</td>\n",
       "      <td>360.0</td>\n",
       "      <td>1.0</td>\n",
       "      <td>Urban</td>\n",
       "    </tr>\n",
       "    <tr>\n",
       "      <th>6</th>\n",
       "      <td>LP001055</td>\n",
       "      <td>Female</td>\n",
       "      <td>No</td>\n",
       "      <td>1</td>\n",
       "      <td>Not Graduate</td>\n",
       "      <td>No</td>\n",
       "      <td>2226</td>\n",
       "      <td>0</td>\n",
       "      <td>59.0</td>\n",
       "      <td>360.0</td>\n",
       "      <td>1.0</td>\n",
       "      <td>Semiurban</td>\n",
       "    </tr>\n",
       "    <tr>\n",
       "      <th>7</th>\n",
       "      <td>LP001056</td>\n",
       "      <td>Male</td>\n",
       "      <td>Yes</td>\n",
       "      <td>2</td>\n",
       "      <td>Not Graduate</td>\n",
       "      <td>No</td>\n",
       "      <td>3881</td>\n",
       "      <td>0</td>\n",
       "      <td>147.0</td>\n",
       "      <td>360.0</td>\n",
       "      <td>0.0</td>\n",
       "      <td>Rural</td>\n",
       "    </tr>\n",
       "    <tr>\n",
       "      <th>8</th>\n",
       "      <td>LP001059</td>\n",
       "      <td>Male</td>\n",
       "      <td>Yes</td>\n",
       "      <td>2</td>\n",
       "      <td>Graduate</td>\n",
       "      <td>NaN</td>\n",
       "      <td>13633</td>\n",
       "      <td>0</td>\n",
       "      <td>280.0</td>\n",
       "      <td>240.0</td>\n",
       "      <td>1.0</td>\n",
       "      <td>Urban</td>\n",
       "    </tr>\n",
       "    <tr>\n",
       "      <th>9</th>\n",
       "      <td>LP001067</td>\n",
       "      <td>Male</td>\n",
       "      <td>No</td>\n",
       "      <td>0</td>\n",
       "      <td>Not Graduate</td>\n",
       "      <td>No</td>\n",
       "      <td>2400</td>\n",
       "      <td>2400</td>\n",
       "      <td>123.0</td>\n",
       "      <td>360.0</td>\n",
       "      <td>1.0</td>\n",
       "      <td>Semiurban</td>\n",
       "    </tr>\n",
       "    <tr>\n",
       "      <th>10</th>\n",
       "      <td>LP001078</td>\n",
       "      <td>Male</td>\n",
       "      <td>No</td>\n",
       "      <td>0</td>\n",
       "      <td>Not Graduate</td>\n",
       "      <td>No</td>\n",
       "      <td>3091</td>\n",
       "      <td>0</td>\n",
       "      <td>90.0</td>\n",
       "      <td>360.0</td>\n",
       "      <td>1.0</td>\n",
       "      <td>Urban</td>\n",
       "    </tr>\n",
       "    <tr>\n",
       "      <th>11</th>\n",
       "      <td>LP001082</td>\n",
       "      <td>Male</td>\n",
       "      <td>Yes</td>\n",
       "      <td>1</td>\n",
       "      <td>Graduate</td>\n",
       "      <td>NaN</td>\n",
       "      <td>2185</td>\n",
       "      <td>1516</td>\n",
       "      <td>162.0</td>\n",
       "      <td>360.0</td>\n",
       "      <td>1.0</td>\n",
       "      <td>Semiurban</td>\n",
       "    </tr>\n",
       "    <tr>\n",
       "      <th>12</th>\n",
       "      <td>LP001083</td>\n",
       "      <td>Male</td>\n",
       "      <td>No</td>\n",
       "      <td>3+</td>\n",
       "      <td>Graduate</td>\n",
       "      <td>No</td>\n",
       "      <td>4166</td>\n",
       "      <td>0</td>\n",
       "      <td>40.0</td>\n",
       "      <td>180.0</td>\n",
       "      <td>NaN</td>\n",
       "      <td>Urban</td>\n",
       "    </tr>\n",
       "    <tr>\n",
       "      <th>13</th>\n",
       "      <td>LP001094</td>\n",
       "      <td>Male</td>\n",
       "      <td>Yes</td>\n",
       "      <td>2</td>\n",
       "      <td>Graduate</td>\n",
       "      <td>NaN</td>\n",
       "      <td>12173</td>\n",
       "      <td>0</td>\n",
       "      <td>166.0</td>\n",
       "      <td>360.0</td>\n",
       "      <td>0.0</td>\n",
       "      <td>Semiurban</td>\n",
       "    </tr>\n",
       "    <tr>\n",
       "      <th>14</th>\n",
       "      <td>LP001096</td>\n",
       "      <td>Female</td>\n",
       "      <td>No</td>\n",
       "      <td>0</td>\n",
       "      <td>Graduate</td>\n",
       "      <td>No</td>\n",
       "      <td>4666</td>\n",
       "      <td>0</td>\n",
       "      <td>124.0</td>\n",
       "      <td>360.0</td>\n",
       "      <td>1.0</td>\n",
       "      <td>Semiurban</td>\n",
       "    </tr>\n",
       "    <tr>\n",
       "      <th>15</th>\n",
       "      <td>LP001099</td>\n",
       "      <td>Male</td>\n",
       "      <td>No</td>\n",
       "      <td>1</td>\n",
       "      <td>Graduate</td>\n",
       "      <td>No</td>\n",
       "      <td>5667</td>\n",
       "      <td>0</td>\n",
       "      <td>131.0</td>\n",
       "      <td>360.0</td>\n",
       "      <td>1.0</td>\n",
       "      <td>Urban</td>\n",
       "    </tr>\n",
       "    <tr>\n",
       "      <th>16</th>\n",
       "      <td>LP001105</td>\n",
       "      <td>Male</td>\n",
       "      <td>Yes</td>\n",
       "      <td>2</td>\n",
       "      <td>Graduate</td>\n",
       "      <td>No</td>\n",
       "      <td>4583</td>\n",
       "      <td>2916</td>\n",
       "      <td>200.0</td>\n",
       "      <td>360.0</td>\n",
       "      <td>1.0</td>\n",
       "      <td>Urban</td>\n",
       "    </tr>\n",
       "    <tr>\n",
       "      <th>17</th>\n",
       "      <td>LP001107</td>\n",
       "      <td>Male</td>\n",
       "      <td>Yes</td>\n",
       "      <td>3+</td>\n",
       "      <td>Graduate</td>\n",
       "      <td>No</td>\n",
       "      <td>3786</td>\n",
       "      <td>333</td>\n",
       "      <td>126.0</td>\n",
       "      <td>360.0</td>\n",
       "      <td>1.0</td>\n",
       "      <td>Semiurban</td>\n",
       "    </tr>\n",
       "    <tr>\n",
       "      <th>18</th>\n",
       "      <td>LP001108</td>\n",
       "      <td>Male</td>\n",
       "      <td>Yes</td>\n",
       "      <td>0</td>\n",
       "      <td>Graduate</td>\n",
       "      <td>No</td>\n",
       "      <td>9226</td>\n",
       "      <td>7916</td>\n",
       "      <td>300.0</td>\n",
       "      <td>360.0</td>\n",
       "      <td>1.0</td>\n",
       "      <td>Urban</td>\n",
       "    </tr>\n",
       "    <tr>\n",
       "      <th>19</th>\n",
       "      <td>LP001115</td>\n",
       "      <td>Male</td>\n",
       "      <td>No</td>\n",
       "      <td>0</td>\n",
       "      <td>Graduate</td>\n",
       "      <td>No</td>\n",
       "      <td>1300</td>\n",
       "      <td>3470</td>\n",
       "      <td>100.0</td>\n",
       "      <td>180.0</td>\n",
       "      <td>1.0</td>\n",
       "      <td>Semiurban</td>\n",
       "    </tr>\n",
       "  </tbody>\n",
       "</table>\n",
       "</div>"
      ],
      "text/plain": [
       "     Loan_ID  Gender Married Dependents     Education Self_Employed  \\\n",
       "0   LP001015    Male     Yes          0      Graduate            No   \n",
       "1   LP001022    Male     Yes          1      Graduate            No   \n",
       "2   LP001031    Male     Yes          2      Graduate            No   \n",
       "3   LP001035    Male     Yes          2      Graduate            No   \n",
       "4   LP001051    Male      No          0  Not Graduate            No   \n",
       "5   LP001054    Male     Yes          0  Not Graduate           Yes   \n",
       "6   LP001055  Female      No          1  Not Graduate            No   \n",
       "7   LP001056    Male     Yes          2  Not Graduate            No   \n",
       "8   LP001059    Male     Yes          2      Graduate           NaN   \n",
       "9   LP001067    Male      No          0  Not Graduate            No   \n",
       "10  LP001078    Male      No          0  Not Graduate            No   \n",
       "11  LP001082    Male     Yes          1      Graduate           NaN   \n",
       "12  LP001083    Male      No         3+      Graduate            No   \n",
       "13  LP001094    Male     Yes          2      Graduate           NaN   \n",
       "14  LP001096  Female      No          0      Graduate            No   \n",
       "15  LP001099    Male      No          1      Graduate            No   \n",
       "16  LP001105    Male     Yes          2      Graduate            No   \n",
       "17  LP001107    Male     Yes         3+      Graduate            No   \n",
       "18  LP001108    Male     Yes          0      Graduate            No   \n",
       "19  LP001115    Male      No          0      Graduate            No   \n",
       "\n",
       "    ApplicantIncome  CoapplicantIncome  LoanAmount  Loan_Amount_Term  \\\n",
       "0              5720                  0       110.0             360.0   \n",
       "1              3076               1500       126.0             360.0   \n",
       "2              5000               1800       208.0             360.0   \n",
       "3              2340               2546       100.0             360.0   \n",
       "4              3276                  0        78.0             360.0   \n",
       "5              2165               3422       152.0             360.0   \n",
       "6              2226                  0        59.0             360.0   \n",
       "7              3881                  0       147.0             360.0   \n",
       "8             13633                  0       280.0             240.0   \n",
       "9              2400               2400       123.0             360.0   \n",
       "10             3091                  0        90.0             360.0   \n",
       "11             2185               1516       162.0             360.0   \n",
       "12             4166                  0        40.0             180.0   \n",
       "13            12173                  0       166.0             360.0   \n",
       "14             4666                  0       124.0             360.0   \n",
       "15             5667                  0       131.0             360.0   \n",
       "16             4583               2916       200.0             360.0   \n",
       "17             3786                333       126.0             360.0   \n",
       "18             9226               7916       300.0             360.0   \n",
       "19             1300               3470       100.0             180.0   \n",
       "\n",
       "    Credit_History Property_Area  \n",
       "0              1.0         Urban  \n",
       "1              1.0         Urban  \n",
       "2              1.0         Urban  \n",
       "3              NaN         Urban  \n",
       "4              1.0         Urban  \n",
       "5              1.0         Urban  \n",
       "6              1.0     Semiurban  \n",
       "7              0.0         Rural  \n",
       "8              1.0         Urban  \n",
       "9              1.0     Semiurban  \n",
       "10             1.0         Urban  \n",
       "11             1.0     Semiurban  \n",
       "12             NaN         Urban  \n",
       "13             0.0     Semiurban  \n",
       "14             1.0     Semiurban  \n",
       "15             1.0         Urban  \n",
       "16             1.0         Urban  \n",
       "17             1.0     Semiurban  \n",
       "18             1.0         Urban  \n",
       "19             1.0     Semiurban  "
      ]
     },
     "execution_count": 92,
     "metadata": {},
     "output_type": "execute_result"
    }
   ],
   "source": [
    "test_dataset.head(20)"
   ]
  },
  {
   "cell_type": "code",
   "execution_count": 93,
   "id": "68f91e8b",
   "metadata": {},
   "outputs": [
    {
     "data": {
      "text/plain": [
       "(367, 12)"
      ]
     },
     "execution_count": 93,
     "metadata": {},
     "output_type": "execute_result"
    }
   ],
   "source": [
    "test_dataset.shape"
   ]
  },
  {
   "cell_type": "code",
   "execution_count": 94,
   "id": "cc25ec9c",
   "metadata": {},
   "outputs": [
    {
     "data": {
      "text/plain": [
       "Loan_ID               0\n",
       "Gender               11\n",
       "Married               0\n",
       "Dependents           10\n",
       "Education             0\n",
       "Self_Employed        23\n",
       "ApplicantIncome       0\n",
       "CoapplicantIncome     0\n",
       "LoanAmount            5\n",
       "Loan_Amount_Term      6\n",
       "Credit_History       29\n",
       "Property_Area         0\n",
       "dtype: int64"
      ]
     },
     "execution_count": 94,
     "metadata": {},
     "output_type": "execute_result"
    }
   ],
   "source": [
    "test_dataset.isnull().sum()"
   ]
  },
  {
   "cell_type": "code",
   "execution_count": 95,
   "id": "59ede092",
   "metadata": {},
   "outputs": [],
   "source": [
    "test_dataset['Gender'].fillna(gender_miss_val, inplace=True)\n",
    "test_dataset['Married'].fillna(married_miss_val, inplace=True)\n",
    "test_dataset['Dependents'].fillna(dependents_miss_val, inplace=True)\n",
    "test_dataset['Self_Employed'].fillna(self_employed_miss_val, inplace=True)\n",
    "test_dataset['LoanAmount'].fillna(loan_amount_miss_val, inplace=True)\n",
    "test_dataset['Loan_Amount_Term'].fillna(loan_amount_term_miss_val, inplace=True)\n",
    "test_dataset['Credit_History'].fillna(credit_hist_miss_val, inplace=True)"
   ]
  },
  {
   "cell_type": "code",
   "execution_count": 96,
   "id": "120cd541",
   "metadata": {},
   "outputs": [],
   "source": [
    "test_dataset['Loan_amount_log'] = np.log(test_dataset['LoanAmount'])"
   ]
  },
  {
   "cell_type": "code",
   "execution_count": 97,
   "id": "0c1a0d3f",
   "metadata": {},
   "outputs": [],
   "source": [
    "test_dataset['Total_income'] = test_dataset['ApplicantIncome'] + test_dataset['CoapplicantIncome']"
   ]
  },
  {
   "cell_type": "code",
   "execution_count": 98,
   "id": "85b1f6b6",
   "metadata": {},
   "outputs": [
    {
     "name": "stderr",
     "output_type": "stream",
     "text": [
      "C:\\Users\\sidhant\\anaconda3\\envs\\tf_2.4\\lib\\site-packages\\seaborn\\distributions.py:2557: FutureWarning: `distplot` is a deprecated function and will be removed in a future version. Please adapt your code to use either `displot` (a figure-level function with similar flexibility) or `histplot` (an axes-level function for histograms).\n",
      "  warnings.warn(msg, FutureWarning)\n"
     ]
    },
    {
     "data": {
      "text/plain": [
       "<AxesSubplot:xlabel='Total_income', ylabel='Density'>"
      ]
     },
     "execution_count": 98,
     "metadata": {},
     "output_type": "execute_result"
    },
    {
     "data": {
      "image/png": "[encoded data removed]",
      "text/plain": [
       "<Figure size 432x288 with 1 Axes>"
      ]
     },
     "metadata": {
      "needs_background": "light"
     },
     "output_type": "display_data"
    }
   ],
   "source": [
    "sns.distplot(test_dataset['Total_income'])"
   ]
  },
  {
   "cell_type": "code",
   "execution_count": 99,
   "id": "017274e6",
   "metadata": {},
   "outputs": [],
   "source": [
    "test_dataset['Total_income_log'] = np.log(test_dataset['Total_income'])"
   ]
  },
  {
   "cell_type": "code",
   "execution_count": 100,
   "id": "cc4dab8e",
   "metadata": {},
   "outputs": [
    {
     "name": "stderr",
     "output_type": "stream",
     "text": [
      "C:\\Users\\sidhant\\anaconda3\\envs\\tf_2.4\\lib\\site-packages\\seaborn\\distributions.py:2557: FutureWarning: `distplot` is a deprecated function and will be removed in a future version. Please adapt your code to use either `displot` (a figure-level function with similar flexibility) or `histplot` (an axes-level function for histograms).\n",
      "  warnings.warn(msg, FutureWarning)\n"
     ]
    },
    {
     "data": {
      "text/plain": [
       "<AxesSubplot:xlabel='Total_income_log', ylabel='Density'>"
      ]
     },
     "execution_count": 100,
     "metadata": {},
     "output_type": "execute_result"
    },
    {
     "data": {
      "image/png": "[encoded data removed]",
      "text/plain": [
       "<Figure size 432x288 with 1 Axes>"
      ]
     },
     "metadata": {
      "needs_background": "light"
     },
     "output_type": "display_data"
    }
   ],
   "source": [
    "sns.distplot(test_dataset['Total_income_log'])"
   ]
  },
  {
   "cell_type": "code",
   "execution_count": 101,
   "id": "ee580a3c",
   "metadata": {},
   "outputs": [],
   "source": [
    "test_dataset.replace({'Gender':gender_encoding, 'Married':married_encoding, 'Education':education_encoding,\n",
    "                      'Self_Employed':self_employed_encoding, 'Dependents':dependents_encoding, 'Property_Area':property_encoding}, \n",
    "                     inplace=True)"
   ]
  },
  {
   "cell_type": "code",
   "execution_count": 102,
   "id": "2fa22da3",
   "metadata": {},
   "outputs": [
    {
     "data": {
      "text/html": [
       "<div>\n",
       "<style scoped>\n",
       "    .dataframe tbody tr th:only-of-type {\n",
       "        vertical-align: middle;\n",
       "    }\n",
       "\n",
       "    .dataframe tbody tr th {\n",
       "        vertical-align: top;\n",
       "    }\n",
       "\n",
       "    .dataframe thead th {\n",
       "        text-align: right;\n",
       "    }\n",
       "</style>\n",
       "<table border=\"1\" class=\"dataframe\">\n",
       "  <thead>\n",
       "    <tr style=\"text-align: right;\">\n",
       "      <th></th>\n",
       "      <th>Loan_ID</th>\n",
       "      <th>Gender</th>\n",
       "      <th>Married</th>\n",
       "      <th>Dependents</th>\n",
       "      <th>Education</th>\n",
       "      <th>Self_Employed</th>\n",
       "      <th>ApplicantIncome</th>\n",
       "      <th>CoapplicantIncome</th>\n",
       "      <th>LoanAmount</th>\n",
       "      <th>Loan_Amount_Term</th>\n",
       "      <th>Credit_History</th>\n",
       "      <th>Property_Area</th>\n",
       "      <th>Loan_amount_log</th>\n",
       "      <th>Total_income</th>\n",
       "      <th>Total_income_log</th>\n",
       "    </tr>\n",
       "  </thead>\n",
       "  <tbody>\n",
       "    <tr>\n",
       "      <th>0</th>\n",
       "      <td>LP001015</td>\n",
       "      <td>0</td>\n",
       "      <td>1</td>\n",
       "      <td>0</td>\n",
       "      <td>1</td>\n",
       "      <td>0</td>\n",
       "      <td>5720</td>\n",
       "      <td>0</td>\n",
       "      <td>110.0</td>\n",
       "      <td>360.0</td>\n",
       "      <td>1.0</td>\n",
       "      <td>2</td>\n",
       "      <td>4.700480</td>\n",
       "      <td>5720</td>\n",
       "      <td>8.651724</td>\n",
       "    </tr>\n",
       "    <tr>\n",
       "      <th>1</th>\n",
       "      <td>LP001022</td>\n",
       "      <td>0</td>\n",
       "      <td>1</td>\n",
       "      <td>1</td>\n",
       "      <td>1</td>\n",
       "      <td>0</td>\n",
       "      <td>3076</td>\n",
       "      <td>1500</td>\n",
       "      <td>126.0</td>\n",
       "      <td>360.0</td>\n",
       "      <td>1.0</td>\n",
       "      <td>2</td>\n",
       "      <td>4.836282</td>\n",
       "      <td>4576</td>\n",
       "      <td>8.428581</td>\n",
       "    </tr>\n",
       "    <tr>\n",
       "      <th>2</th>\n",
       "      <td>LP001031</td>\n",
       "      <td>0</td>\n",
       "      <td>1</td>\n",
       "      <td>2</td>\n",
       "      <td>1</td>\n",
       "      <td>0</td>\n",
       "      <td>5000</td>\n",
       "      <td>1800</td>\n",
       "      <td>208.0</td>\n",
       "      <td>360.0</td>\n",
       "      <td>1.0</td>\n",
       "      <td>2</td>\n",
       "      <td>5.337538</td>\n",
       "      <td>6800</td>\n",
       "      <td>8.824678</td>\n",
       "    </tr>\n",
       "    <tr>\n",
       "      <th>3</th>\n",
       "      <td>LP001035</td>\n",
       "      <td>0</td>\n",
       "      <td>1</td>\n",
       "      <td>2</td>\n",
       "      <td>1</td>\n",
       "      <td>0</td>\n",
       "      <td>2340</td>\n",
       "      <td>2546</td>\n",
       "      <td>100.0</td>\n",
       "      <td>360.0</td>\n",
       "      <td>1.0</td>\n",
       "      <td>2</td>\n",
       "      <td>4.605170</td>\n",
       "      <td>4886</td>\n",
       "      <td>8.494129</td>\n",
       "    </tr>\n",
       "    <tr>\n",
       "      <th>4</th>\n",
       "      <td>LP001051</td>\n",
       "      <td>0</td>\n",
       "      <td>0</td>\n",
       "      <td>0</td>\n",
       "      <td>0</td>\n",
       "      <td>0</td>\n",
       "      <td>3276</td>\n",
       "      <td>0</td>\n",
       "      <td>78.0</td>\n",
       "      <td>360.0</td>\n",
       "      <td>1.0</td>\n",
       "      <td>2</td>\n",
       "      <td>4.356709</td>\n",
       "      <td>3276</td>\n",
       "      <td>8.094378</td>\n",
       "    </tr>\n",
       "    <tr>\n",
       "      <th>...</th>\n",
       "      <td>...</td>\n",
       "      <td>...</td>\n",
       "      <td>...</td>\n",
       "      <td>...</td>\n",
       "      <td>...</td>\n",
       "      <td>...</td>\n",
       "      <td>...</td>\n",
       "      <td>...</td>\n",
       "      <td>...</td>\n",
       "      <td>...</td>\n",
       "      <td>...</td>\n",
       "      <td>...</td>\n",
       "      <td>...</td>\n",
       "      <td>...</td>\n",
       "      <td>...</td>\n",
       "    </tr>\n",
       "    <tr>\n",
       "      <th>362</th>\n",
       "      <td>LP002971</td>\n",
       "      <td>0</td>\n",
       "      <td>1</td>\n",
       "      <td>4</td>\n",
       "      <td>0</td>\n",
       "      <td>1</td>\n",
       "      <td>4009</td>\n",
       "      <td>1777</td>\n",
       "      <td>113.0</td>\n",
       "      <td>360.0</td>\n",
       "      <td>1.0</td>\n",
       "      <td>2</td>\n",
       "      <td>4.727388</td>\n",
       "      <td>5786</td>\n",
       "      <td>8.663196</td>\n",
       "    </tr>\n",
       "    <tr>\n",
       "      <th>363</th>\n",
       "      <td>LP002975</td>\n",
       "      <td>0</td>\n",
       "      <td>1</td>\n",
       "      <td>0</td>\n",
       "      <td>1</td>\n",
       "      <td>0</td>\n",
       "      <td>4158</td>\n",
       "      <td>709</td>\n",
       "      <td>115.0</td>\n",
       "      <td>360.0</td>\n",
       "      <td>1.0</td>\n",
       "      <td>2</td>\n",
       "      <td>4.744932</td>\n",
       "      <td>4867</td>\n",
       "      <td>8.490233</td>\n",
       "    </tr>\n",
       "    <tr>\n",
       "      <th>364</th>\n",
       "      <td>LP002980</td>\n",
       "      <td>0</td>\n",
       "      <td>0</td>\n",
       "      <td>0</td>\n",
       "      <td>1</td>\n",
       "      <td>0</td>\n",
       "      <td>3250</td>\n",
       "      <td>1993</td>\n",
       "      <td>126.0</td>\n",
       "      <td>360.0</td>\n",
       "      <td>1.0</td>\n",
       "      <td>1</td>\n",
       "      <td>4.836282</td>\n",
       "      <td>5243</td>\n",
       "      <td>8.564649</td>\n",
       "    </tr>\n",
       "    <tr>\n",
       "      <th>365</th>\n",
       "      <td>LP002986</td>\n",
       "      <td>0</td>\n",
       "      <td>1</td>\n",
       "      <td>0</td>\n",
       "      <td>1</td>\n",
       "      <td>0</td>\n",
       "      <td>5000</td>\n",
       "      <td>2393</td>\n",
       "      <td>158.0</td>\n",
       "      <td>360.0</td>\n",
       "      <td>1.0</td>\n",
       "      <td>0</td>\n",
       "      <td>5.062595</td>\n",
       "      <td>7393</td>\n",
       "      <td>8.908289</td>\n",
       "    </tr>\n",
       "    <tr>\n",
       "      <th>366</th>\n",
       "      <td>LP002989</td>\n",
       "      <td>0</td>\n",
       "      <td>0</td>\n",
       "      <td>0</td>\n",
       "      <td>1</td>\n",
       "      <td>1</td>\n",
       "      <td>9200</td>\n",
       "      <td>0</td>\n",
       "      <td>98.0</td>\n",
       "      <td>180.0</td>\n",
       "      <td>1.0</td>\n",
       "      <td>0</td>\n",
       "      <td>4.584967</td>\n",
       "      <td>9200</td>\n",
       "      <td>9.126959</td>\n",
       "    </tr>\n",
       "  </tbody>\n",
       "</table>\n",
       "<p>367 rows × 15 columns</p>\n",
       "</div>"
      ],
      "text/plain": [
       "      Loan_ID  Gender  Married  Dependents  Education  Self_Employed  \\\n",
       "0    LP001015       0        1           0          1              0   \n",
       "1    LP001022       0        1           1          1              0   \n",
       "2    LP001031       0        1           2          1              0   \n",
       "3    LP001035       0        1           2          1              0   \n",
       "4    LP001051       0        0           0          0              0   \n",
       "..        ...     ...      ...         ...        ...            ...   \n",
       "362  LP002971       0        1           4          0              1   \n",
       "363  LP002975       0        1           0          1              0   \n",
       "364  LP002980       0        0           0          1              0   \n",
       "365  LP002986       0        1           0          1              0   \n",
       "366  LP002989       0        0           0          1              1   \n",
       "\n",
       "     ApplicantIncome  CoapplicantIncome  LoanAmount  Loan_Amount_Term  \\\n",
       "0               5720                  0       110.0             360.0   \n",
       "1               3076               1500       126.0             360.0   \n",
       "2               5000               1800       208.0             360.0   \n",
       "3               2340               2546       100.0             360.0   \n",
       "4               3276                  0        78.0             360.0   \n",
       "..               ...                ...         ...               ...   \n",
       "362             4009               1777       113.0             360.0   \n",
       "363             4158                709       115.0             360.0   \n",
       "364             3250               1993       126.0             360.0   \n",
       "365             5000               2393       158.0             360.0   \n",
       "366             9200                  0        98.0             180.0   \n",
       "\n",
       "     Credit_History  Property_Area  Loan_amount_log  Total_income  \\\n",
       "0               1.0              2         4.700480          5720   \n",
       "1               1.0              2         4.836282          4576   \n",
       "2               1.0              2         5.337538          6800   \n",
       "3               1.0              2         4.605170          4886   \n",
       "4               1.0              2         4.356709          3276   \n",
       "..              ...            ...              ...           ...   \n",
       "362             1.0              2         4.727388          5786   \n",
       "363             1.0              2         4.744932          4867   \n",
       "364             1.0              1         4.836282          5243   \n",
       "365             1.0              0         5.062595          7393   \n",
       "366             1.0              0         4.584967          9200   \n",
       "\n",
       "     Total_income_log  \n",
       "0            8.651724  \n",
       "1            8.428581  \n",
       "2            8.824678  \n",
       "3            8.494129  \n",
       "4            8.094378  \n",
       "..                ...  \n",
       "362          8.663196  \n",
       "363          8.490233  \n",
       "364          8.564649  \n",
       "365          8.908289  \n",
       "366          9.126959  \n",
       "\n",
       "[367 rows x 15 columns]"
      ]
     },
     "execution_count": 102,
     "metadata": {},
     "output_type": "execute_result"
    }
   ],
   "source": [
    "test_dataset"
   ]
  },
  {
   "cell_type": "code",
   "execution_count": 103,
   "id": "5d956e43",
   "metadata": {},
   "outputs": [],
   "source": [
    "X_test = test_dataset.drop(['ApplicantIncome', 'CoapplicantIncome', 'LoanAmount', 'Total_income', 'Loan_ID'], axis=1)"
   ]
  },
  {
   "cell_type": "code",
   "execution_count": 104,
   "id": "b9ff7dc6",
   "metadata": {},
   "outputs": [
    {
     "data": {
      "text/html": [
       "<div>\n",
       "<style scoped>\n",
       "    .dataframe tbody tr th:only-of-type {\n",
       "        vertical-align: middle;\n",
       "    }\n",
       "\n",
       "    .dataframe tbody tr th {\n",
       "        vertical-align: top;\n",
       "    }\n",
       "\n",
       "    .dataframe thead th {\n",
       "        text-align: right;\n",
       "    }\n",
       "</style>\n",
       "<table border=\"1\" class=\"dataframe\">\n",
       "  <thead>\n",
       "    <tr style=\"text-align: right;\">\n",
       "      <th></th>\n",
       "      <th>Gender</th>\n",
       "      <th>Married</th>\n",
       "      <th>Dependents</th>\n",
       "      <th>Education</th>\n",
       "      <th>Self_Employed</th>\n",
       "      <th>Loan_Amount_Term</th>\n",
       "      <th>Credit_History</th>\n",
       "      <th>Property_Area</th>\n",
       "      <th>Loan_amount_log</th>\n",
       "      <th>Total_income_log</th>\n",
       "    </tr>\n",
       "  </thead>\n",
       "  <tbody>\n",
       "    <tr>\n",
       "      <th>0</th>\n",
       "      <td>0</td>\n",
       "      <td>1</td>\n",
       "      <td>0</td>\n",
       "      <td>1</td>\n",
       "      <td>0</td>\n",
       "      <td>360.0</td>\n",
       "      <td>1.0</td>\n",
       "      <td>2</td>\n",
       "      <td>4.700480</td>\n",
       "      <td>8.651724</td>\n",
       "    </tr>\n",
       "    <tr>\n",
       "      <th>1</th>\n",
       "      <td>0</td>\n",
       "      <td>1</td>\n",
       "      <td>1</td>\n",
       "      <td>1</td>\n",
       "      <td>0</td>\n",
       "      <td>360.0</td>\n",
       "      <td>1.0</td>\n",
       "      <td>2</td>\n",
       "      <td>4.836282</td>\n",
       "      <td>8.428581</td>\n",
       "    </tr>\n",
       "    <tr>\n",
       "      <th>2</th>\n",
       "      <td>0</td>\n",
       "      <td>1</td>\n",
       "      <td>2</td>\n",
       "      <td>1</td>\n",
       "      <td>0</td>\n",
       "      <td>360.0</td>\n",
       "      <td>1.0</td>\n",
       "      <td>2</td>\n",
       "      <td>5.337538</td>\n",
       "      <td>8.824678</td>\n",
       "    </tr>\n",
       "    <tr>\n",
       "      <th>3</th>\n",
       "      <td>0</td>\n",
       "      <td>1</td>\n",
       "      <td>2</td>\n",
       "      <td>1</td>\n",
       "      <td>0</td>\n",
       "      <td>360.0</td>\n",
       "      <td>1.0</td>\n",
       "      <td>2</td>\n",
       "      <td>4.605170</td>\n",
       "      <td>8.494129</td>\n",
       "    </tr>\n",
       "    <tr>\n",
       "      <th>4</th>\n",
       "      <td>0</td>\n",
       "      <td>0</td>\n",
       "      <td>0</td>\n",
       "      <td>0</td>\n",
       "      <td>0</td>\n",
       "      <td>360.0</td>\n",
       "      <td>1.0</td>\n",
       "      <td>2</td>\n",
       "      <td>4.356709</td>\n",
       "      <td>8.094378</td>\n",
       "    </tr>\n",
       "    <tr>\n",
       "      <th>...</th>\n",
       "      <td>...</td>\n",
       "      <td>...</td>\n",
       "      <td>...</td>\n",
       "      <td>...</td>\n",
       "      <td>...</td>\n",
       "      <td>...</td>\n",
       "      <td>...</td>\n",
       "      <td>...</td>\n",
       "      <td>...</td>\n",
       "      <td>...</td>\n",
       "    </tr>\n",
       "    <tr>\n",
       "      <th>362</th>\n",
       "      <td>0</td>\n",
       "      <td>1</td>\n",
       "      <td>4</td>\n",
       "      <td>0</td>\n",
       "      <td>1</td>\n",
       "      <td>360.0</td>\n",
       "      <td>1.0</td>\n",
       "      <td>2</td>\n",
       "      <td>4.727388</td>\n",
       "      <td>8.663196</td>\n",
       "    </tr>\n",
       "    <tr>\n",
       "      <th>363</th>\n",
       "      <td>0</td>\n",
       "      <td>1</td>\n",
       "      <td>0</td>\n",
       "      <td>1</td>\n",
       "      <td>0</td>\n",
       "      <td>360.0</td>\n",
       "      <td>1.0</td>\n",
       "      <td>2</td>\n",
       "      <td>4.744932</td>\n",
       "      <td>8.490233</td>\n",
       "    </tr>\n",
       "    <tr>\n",
       "      <th>364</th>\n",
       "      <td>0</td>\n",
       "      <td>0</td>\n",
       "      <td>0</td>\n",
       "      <td>1</td>\n",
       "      <td>0</td>\n",
       "      <td>360.0</td>\n",
       "      <td>1.0</td>\n",
       "      <td>1</td>\n",
       "      <td>4.836282</td>\n",
       "      <td>8.564649</td>\n",
       "    </tr>\n",
       "    <tr>\n",
       "      <th>365</th>\n",
       "      <td>0</td>\n",
       "      <td>1</td>\n",
       "      <td>0</td>\n",
       "      <td>1</td>\n",
       "      <td>0</td>\n",
       "      <td>360.0</td>\n",
       "      <td>1.0</td>\n",
       "      <td>0</td>\n",
       "      <td>5.062595</td>\n",
       "      <td>8.908289</td>\n",
       "    </tr>\n",
       "    <tr>\n",
       "      <th>366</th>\n",
       "      <td>0</td>\n",
       "      <td>0</td>\n",
       "      <td>0</td>\n",
       "      <td>1</td>\n",
       "      <td>1</td>\n",
       "      <td>180.0</td>\n",
       "      <td>1.0</td>\n",
       "      <td>0</td>\n",
       "      <td>4.584967</td>\n",
       "      <td>9.126959</td>\n",
       "    </tr>\n",
       "  </tbody>\n",
       "</table>\n",
       "<p>367 rows × 10 columns</p>\n",
       "</div>"
      ],
      "text/plain": [
       "     Gender  Married  Dependents  Education  Self_Employed  Loan_Amount_Term  \\\n",
       "0         0        1           0          1              0             360.0   \n",
       "1         0        1           1          1              0             360.0   \n",
       "2         0        1           2          1              0             360.0   \n",
       "3         0        1           2          1              0             360.0   \n",
       "4         0        0           0          0              0             360.0   \n",
       "..      ...      ...         ...        ...            ...               ...   \n",
       "362       0        1           4          0              1             360.0   \n",
       "363       0        1           0          1              0             360.0   \n",
       "364       0        0           0          1              0             360.0   \n",
       "365       0        1           0          1              0             360.0   \n",
       "366       0        0           0          1              1             180.0   \n",
       "\n",
       "     Credit_History  Property_Area  Loan_amount_log  Total_income_log  \n",
       "0               1.0              2         4.700480          8.651724  \n",
       "1               1.0              2         4.836282          8.428581  \n",
       "2               1.0              2         5.337538          8.824678  \n",
       "3               1.0              2         4.605170          8.494129  \n",
       "4               1.0              2         4.356709          8.094378  \n",
       "..              ...            ...              ...               ...  \n",
       "362             1.0              2         4.727388          8.663196  \n",
       "363             1.0              2         4.744932          8.490233  \n",
       "364             1.0              1         4.836282          8.564649  \n",
       "365             1.0              0         5.062595          8.908289  \n",
       "366             1.0              0         4.584967          9.126959  \n",
       "\n",
       "[367 rows x 10 columns]"
      ]
     },
     "execution_count": 104,
     "metadata": {},
     "output_type": "execute_result"
    }
   ],
   "source": [
    "X_test"
   ]
  },
  {
   "cell_type": "markdown",
   "id": "757e8f2c",
   "metadata": {},
   "source": [
    "# Now, make the submission file for each of the model and test its score, by uploading it on Solution Checker of Analytics Vidhya"
   ]
  },
  {
   "cell_type": "code",
   "execution_count": 107,
   "id": "377bfecd",
   "metadata": {},
   "outputs": [],
   "source": [
    "def saving_to_submission(filename, predictions):\n",
    "    sample_csv = pd.read_csv('sample_submission_49d68Cx.csv')\n",
    "    sample_csv['Loan_Status'] = predictions\n",
    "    full_filename = 'Submissions/' + filename\n",
    "    sample_csv.to_csv(full_filename, index=False)"
   ]
  },
  {
   "cell_type": "code",
   "execution_count": 108,
   "id": "67cc2482",
   "metadata": {},
   "outputs": [],
   "source": [
    "predictions = dt_model.predict(X_test)"
   ]
  },
  {
   "cell_type": "code",
   "execution_count": 110,
   "id": "d3f3bf66",
   "metadata": {},
   "outputs": [],
   "source": [
    "prediction_temp = []\n",
    "for i in range(predictions.shape[0]):\n",
    "    if predictions[i] == 0:\n",
    "        prediction_temp.append('N')\n",
    "    else:\n",
    "        prediction_temp.append('Y')"
   ]
  },
  {
   "cell_type": "code",
   "execution_count": 111,
   "id": "18c237e6",
   "metadata": {},
   "outputs": [],
   "source": [
    "saving_to_submission('Decision_Tree_sub.csv', np.array(prediction_temp))"
   ]
  },
  {
   "cell_type": "code",
   "execution_count": null,
   "id": "9175532f",
   "metadata": {},
   "outputs": [],
   "source": []
  },
  {
   "cell_type": "code",
   "execution_count": 112,
   "id": "bebfe2a3",
   "metadata": {},
   "outputs": [],
   "source": [
    "predictions = lr_model.predict(X_test)\n",
    "prediction_temp = []\n",
    "for i in range(predictions.shape[0]):\n",
    "    if predictions[i] == 0:\n",
    "        prediction_temp.append('N')\n",
    "    else:\n",
    "        prediction_temp.append('Y')\n",
    "saving_to_submission('Logistic_Regression_sub.csv', np.array(prediction_temp))"
   ]
  },
  {
   "cell_type": "code",
   "execution_count": 113,
   "id": "34906fa9",
   "metadata": {},
   "outputs": [],
   "source": [
    "predictions = rf_model.predict(X_test)\n",
    "prediction_temp = []\n",
    "for i in range(predictions.shape[0]):\n",
    "    if predictions[i] == 0:\n",
    "        prediction_temp.append('N')\n",
    "    else:\n",
    "        prediction_temp.append('Y')\n",
    "saving_to_submission('Random_Forest_sub.csv', np.array(prediction_temp))"
   ]
  },
  {
   "cell_type": "code",
   "execution_count": 114,
   "id": "6f5453a7",
   "metadata": {},
   "outputs": [],
   "source": [
    "predictions = knn_model.predict(X_test)\n",
    "prediction_temp = []\n",
    "for i in range(predictions.shape[0]):\n",
    "    if predictions[i] == 0:\n",
    "        prediction_temp.append('N')\n",
    "    else:\n",
    "        prediction_temp.append('Y')\n",
    "saving_to_submission('KNN_sub.csv', np.array(prediction_temp))"
   ]
  },
  {
   "cell_type": "code",
   "execution_count": 115,
   "id": "23424a60",
   "metadata": {},
   "outputs": [],
   "source": [
    "predictions = nb_model.predict(X_test)\n",
    "prediction_temp = []\n",
    "for i in range(predictions.shape[0]):\n",
    "    if predictions[i] == 0:\n",
    "        prediction_temp.append('N')\n",
    "    else:\n",
    "        prediction_temp.append('Y')\n",
    "saving_to_submission('Naive_Bayes_sub.csv', np.array(prediction_temp))"
   ]
  },
  {
   "cell_type": "code",
   "execution_count": null,
   "id": "c2906876",
   "metadata": {},
   "outputs": [],
   "source": []
  }
 ],
 "metadata": {
  "kernelspec": {
   "display_name": "Python 3",
   "language": "python",
   "name": "python3"
  },
  "language_info": {
   "codemirror_mode": {
    "name": "ipython",
    "version": 3
   },
   "file_extension": ".py",
   "mimetype": "text/x-python",
   "name": "python",
   "nbconvert_exporter": "python",
   "pygments_lexer": "ipython3",
   "version": "3.8.0"
  }
 },
 "nbformat": 4,
 "nbformat_minor": 5
}
